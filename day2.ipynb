{
 "cells": [
  {
   "cell_type": "markdown",
   "metadata": {},
   "source": [
    "'control string' is same as  'format string'\n",
    "\n",
    "printf, scanf"
   ]
  },
  {
   "cell_type": "code",
   "execution_count": 1,
   "metadata": {},
   "outputs": [
    {
     "name": "stdout",
     "output_type": "stream",
     "text": [
      "Hello\n"
     ]
    }
   ],
   "source": [
    "# Main function in python\n",
    "if __name__ == '__main__':\n",
    "    print(\"Hello\")"
   ]
  },
  {
   "cell_type": "markdown",
   "metadata": {},
   "source": [
    "single underscore (_) : protected\n",
    "\n",
    "double underscore (__) : private\n",
    "\n",
    "no underscore : public"
   ]
  },
  {
   "cell_type": "markdown",
   "metadata": {},
   "source": [
    "When to use loop?\n",
    "\n",
    "if you want to execute a block of statement again and again, till the condition is not satisfied"
   ]
  },
  {
   "cell_type": "markdown",
   "metadata": {},
   "source": [
    "FOR LOOP"
   ]
  },
  {
   "cell_type": "code",
   "execution_count": 7,
   "metadata": {},
   "outputs": [
    {
     "name": "stdout",
     "output_type": "stream",
     "text": [
      "0 1 2 "
     ]
    }
   ],
   "source": [
    "s =\"hello\"\n",
    "for x in range(3):\n",
    "    print(x, end=\" \")"
   ]
  },
  {
   "cell_type": "code",
   "execution_count": 9,
   "metadata": {},
   "outputs": [
    {
     "name": "stdout",
     "output_type": "stream",
     "text": [
      "h e l l o "
     ]
    }
   ],
   "source": [
    "for x in range(len(s)):\n",
    "    print(s[x], end=\" \")"
   ]
  },
  {
   "cell_type": "code",
   "execution_count": 11,
   "metadata": {},
   "outputs": [
    {
     "name": "stdout",
     "output_type": "stream",
     "text": [
      "11 5 35 7 356 0 "
     ]
    }
   ],
   "source": [
    "list = [11,5,35,7,356,0]\n",
    "for i in list:\n",
    "    print(i, end=\" \")"
   ]
  },
  {
   "cell_type": "code",
   "execution_count": 13,
   "metadata": {},
   "outputs": [
    {
     "name": "stdout",
     "output_type": "stream",
     "text": [
      "11 5 35 7 356 0 "
     ]
    }
   ],
   "source": [
    "for i in range(len(list)):\n",
    "    print(list[i], end=\" \")"
   ]
  },
  {
   "cell_type": "code",
   "execution_count": 14,
   "metadata": {},
   "outputs": [
    {
     "name": "stdout",
     "output_type": "stream",
     "text": [
      "2 5 8 11 14 17 "
     ]
    }
   ],
   "source": [
    "#range(start, end, jump)\n",
    "for i in range(2, 20, 3):\n",
    "    print(i, end=\" \")"
   ]
  },
  {
   "cell_type": "code",
   "execution_count": 16,
   "metadata": {},
   "outputs": [
    {
     "name": "stdout",
     "output_type": "stream",
     "text": [
      "20 19 18 17 16 15 14 13 12 11 10 9 8 7 6 5 4 3 "
     ]
    }
   ],
   "source": [
    "#range(start, end, jump)\n",
    "for i in range(20, 2, -1):\n",
    "    print(i, end=\" \")"
   ]
  },
  {
   "cell_type": "code",
   "execution_count": 17,
   "metadata": {},
   "outputs": [
    {
     "name": "stdout",
     "output_type": "stream",
     "text": [
      "55\n"
     ]
    }
   ],
   "source": [
    "sum = 0\n",
    "for i in range(1, 11):\n",
    "    sum+=i\n",
    "print(sum)"
   ]
  },
  {
   "cell_type": "markdown",
   "metadata": {},
   "source": [
    "While Loop"
   ]
  },
  {
   "cell_type": "code",
   "execution_count": 18,
   "metadata": {},
   "outputs": [
    {
     "name": "stdout",
     "output_type": "stream",
     "text": [
      "1 2 3 4 5 6 7 8 9 "
     ]
    }
   ],
   "source": [
    "i = 1\n",
    "while i < 10:\n",
    "    print(i, end=\" \")\n",
    "    i+=1"
   ]
  },
  {
   "cell_type": "markdown",
   "metadata": {},
   "source": [
    "FLow Control\n",
    "1. Conditional Statements (if, if-elif, if-elif-else)\n",
    "2. Transfer Statements (continue, break, pass)\n",
    "3. Iterative Statements (for, while)"
   ]
  },
  {
   "cell_type": "code",
   "execution_count": 19,
   "metadata": {},
   "outputs": [
    {
     "name": "stdout",
     "output_type": "stream",
     "text": [
      "Even\n"
     ]
    }
   ],
   "source": [
    "if(int(input(\"Enter number: \"))%2):\n",
    "    print(\"Odd\")\n",
    "else:\n",
    "    print(\"Even\")"
   ]
  },
  {
   "cell_type": "code",
   "execution_count": 22,
   "metadata": {},
   "outputs": [
    {
     "name": "stdout",
     "output_type": "stream",
     "text": [
      "Max Num: 9\n"
     ]
    }
   ],
   "source": [
    "#Accept 5 number and find max num and using simple if only\n",
    "n1 = int(input(\"Enter num1: \"))\n",
    "n2 = int(input(\"Enter num2: \"))\n",
    "n3 = int(input(\"Enter num3: \"))\n",
    "n4 = int(input(\"Enter num4: \"))\n",
    "n5 = int(input(\"Enter num5: \"))\n",
    "max = n1\n",
    "if(max<n2):\n",
    "    max = n2\n",
    "if(max<n3):\n",
    "    max = n3\n",
    "if(max<n4):\n",
    "    max = n4\n",
    "if(max<n5):\n",
    "    max = n5\n",
    "print(\"Max Num: {}\".format(max))"
   ]
  },
  {
   "cell_type": "code",
   "execution_count": 24,
   "metadata": {},
   "outputs": [
    {
     "name": "stdout",
     "output_type": "stream",
     "text": [
      "459.0\n"
     ]
    }
   ],
   "source": [
    "# WAP to accept Cost Price from user and ask whether the use is a student or not\n",
    "# If the user is student and CP is greater than 500, give discount of 10% else discount will be 5%\n",
    "# If user is not student and CP is greater than 500, give discount of 8% ekse discount will be 2%\n",
    "\n",
    "cp = int(input(\"Enter the cost price: \"))\n",
    "student = bool(input(\"Are you a Student? (1(YES)/ 0(NO))\"))\n",
    "res = None\n",
    "if student:\n",
    "    if(cp>500):\n",
    "        res = cp - (cp*0.1)\n",
    "    else:\n",
    "        res = cp - (cp*0.05)\n",
    "else:\n",
    "    if(cp>500):\n",
    "        res = cp - (cp*0.08)\n",
    "    else:\n",
    "        res = cp - (cp*0.02)\n",
    "\n",
    "print(res)\n",
    "# cp: 510, student: 1\n",
    "# res = 510 - (510*10%) => 510 - 51 => 459"
   ]
  },
  {
   "cell_type": "code",
   "execution_count": 31,
   "metadata": {},
   "outputs": [
    {
     "name": "stdout",
     "output_type": "stream",
     "text": [
      "Admission not available\n"
     ]
    }
   ],
   "source": [
    "# Accept 5 paper marks and find total and percentage\n",
    "# Also accept gender\n",
    "# if percentage is greater than 82 and gender is female, can take admission\n",
    "# if percentage is greater than 62 and gender is male, can take admission\n",
    "# else admission not available\n",
    "\n",
    "sum = 0\n",
    "for i in range(5):\n",
    "    num = int(input(\"Enter marks of subject {}: \".format(i+1)))\n",
    "    sum+=num\n",
    "\n",
    "gender = input(\"Enter Gender (Male(M)/ Female(F))\")\n",
    "per = sum/5\n",
    "if (gender == 'M' and per > 62):\n",
    "    print(\"He can take admission\")\n",
    "elif (gender == 'F' and per >82):\n",
    "    print(\"She can take admission\")\n",
    "else:\n",
    "    print(\"Admission not available\")"
   ]
  },
  {
   "cell_type": "code",
   "execution_count": 33,
   "metadata": {},
   "outputs": [
    {
     "name": "stdout",
     "output_type": "stream",
     "text": [
      "421\n"
     ]
    }
   ],
   "source": [
    "#Reverse the number\n",
    "num = int(input(\"Enter number\"))\n",
    "rev = 0\n",
    "while num > 0:\n",
    "    rev = rev * 10 + (num % 10)\n",
    "    num //= 10\n",
    "print(rev)"
   ]
  },
  {
   "cell_type": "code",
   "execution_count": 34,
   "metadata": {},
   "outputs": [
    {
     "name": "stdout",
     "output_type": "stream",
     "text": [
      "Digit Count: 5\n",
      "Sum of Digits: 15\n",
      "Product of Digits: 120\n"
     ]
    }
   ],
   "source": [
    "#Count the digits\n",
    "#Sum of digits\n",
    "#Product of digits\n",
    "\n",
    "num = int(input(\"Enter number\"))\n",
    "digitCount = 0\n",
    "sum = 0\n",
    "product = 1\n",
    "while num > 0:\n",
    "    lastDigit = num % 10\n",
    "    digitCount += 1\n",
    "    sum += lastDigit\n",
    "    product *= lastDigit\n",
    "    num //= 10\n",
    "\n",
    "print(f\"Digit Count: {digitCount}\")\n",
    "print(f'Sum of Digits: {sum}')\n",
    "print(f'Product of Digits: {product}')"
   ]
  },
  {
   "cell_type": "code",
   "execution_count": 3,
   "metadata": {},
   "outputs": [
    {
     "name": "stdout",
     "output_type": "stream",
     "text": [
      "121 is Plaindrome.\n"
     ]
    }
   ],
   "source": [
    "#Palindrome number\n",
    "num = int(input(\"Enter number\"))\n",
    "temp = num\n",
    "rev_num = 0\n",
    "while temp > 0:\n",
    "    rev_num = rev_num * 10 + (temp % 10)\n",
    "    temp //= 10\n",
    "if(num == rev_num):\n",
    "    print(f'{num} is Plaindrome.')\n",
    "else:\n",
    "    print(f'{num} is not a Plaindrome.')\n"
   ]
  },
  {
   "cell_type": "code",
   "execution_count": 6,
   "metadata": {},
   "outputs": [
    {
     "name": "stdout",
     "output_type": "stream",
     "text": [
      "153 is Armstrong Number.\n"
     ]
    }
   ],
   "source": [
    "#Armstrong Number\n",
    "num = int(input(\"Enter number\"))\n",
    "temp = num\n",
    "sum = 0\n",
    "while temp > 0:\n",
    "    sum += (temp % 10)**3\n",
    "    temp //= 10\n",
    "if num == sum:\n",
    "    print(f'{num} is Armstrong Number.')\n",
    "else:\n",
    "    print(f'{num} is not a Armstrong Number.')"
   ]
  },
  {
   "cell_type": "code",
   "execution_count": 6,
   "metadata": {},
   "outputs": [
    {
     "name": "stdout",
     "output_type": "stream",
     "text": [
      "9 is Armstrong Number.\n"
     ]
    }
   ],
   "source": [
    "# Modified armstrong number (digit ^ numberOfDigits)\n",
    "import math\n",
    "num = int(input(\"Enter number\"))\n",
    "digitCount = int(math.log10(num))+1\n",
    "temp = num\n",
    "sum = 0\n",
    "while temp > 0:\n",
    "    sum += (temp % 10)**digitCount\n",
    "    temp //= 10\n",
    "if num == sum:\n",
    "    print(f'{num} is Armstrong Number.')\n",
    "else:\n",
    "    print(f'{num} is not a Armstrong Number.')"
   ]
  },
  {
   "cell_type": "code",
   "execution_count": 10,
   "metadata": {},
   "outputs": [
    {
     "name": "stdout",
     "output_type": "stream",
     "text": [
      "Armstrong Number from 1 to 10000 are: \n",
      "1 153 370 371 407 "
     ]
    }
   ],
   "source": [
    "# Armstrong from 1 to 10000\n",
    "print(\"Armstrong Number from 1 to 10000 are: \")\n",
    "for num in range(1, 10001):\n",
    "    temp = num\n",
    "    sum = 0\n",
    "    while temp > 0:\n",
    "        sum += (temp % 10)**3\n",
    "        temp //= 10\n",
    "    if num == sum:\n",
    "        print(num, end= \" \")"
   ]
  },
  {
   "cell_type": "code",
   "execution_count": 19,
   "metadata": {},
   "outputs": [
    {
     "name": "stdout",
     "output_type": "stream",
     "text": [
      "1 2 3 4 5 6 7 8 9 153 370 371 407 1634 8208 9474 "
     ]
    }
   ],
   "source": [
    "# Modified Armstrong from 1 to 10000\n",
    "for num in range(1, 10000):\n",
    "    digitCount = int(math.log10(num))+1\n",
    "    temp = num\n",
    "    sum = 0\n",
    "    while temp > 0:\n",
    "        sum += (temp % 10)**digitCount\n",
    "        temp //= 10\n",
    "    if(num == sum):\n",
    "        print(num, end=\" \")"
   ]
  },
  {
   "cell_type": "code",
   "execution_count": 24,
   "metadata": {},
   "outputs": [
    {
     "name": "stdout",
     "output_type": "stream",
     "text": [
      "9 * 11 is: 99\n"
     ]
    }
   ],
   "source": [
    "# Multiply 2 positive number without using '*' operator\n",
    "num1 = int(input(\"Enter Num 1: \"))\n",
    "num2 = int(input(\"Enter Num 2: \"))\n",
    "mult = 0\n",
    "for i in range(num2):\n",
    "    mult += num1\n",
    "\n",
    "print(f'{num1} * {num2} is: {mult}')"
   ]
  },
  {
   "cell_type": "code",
   "execution_count": 22,
   "metadata": {},
   "outputs": [
    {
     "name": "stdout",
     "output_type": "stream",
     "text": [
      "n is 5, x is 2\n",
      "sum: 11.67\n"
     ]
    }
   ],
   "source": [
    "#sum = 1 + x/1 + x^2/2 + x^3/3 + .... + x^4/4 \n",
    "n = int(input(\"Enter Range: \"))\n",
    "x = int(input(\"Enter x value: \"))\n",
    "print(f'n is {n}, x is {x}')\n",
    "sum = 1\n",
    "for i in range(1,n):\n",
    "    sum += (x**i)/i\n",
    "print(f'sum: {sum:0,.2f}')"
   ]
  },
  {
   "cell_type": "code",
   "execution_count": 23,
   "metadata": {},
   "outputs": [
    {
     "name": "stdout",
     "output_type": "stream",
     "text": [
      "n is 10, x is 5\n",
      "Sum: 143.69\n"
     ]
    }
   ],
   "source": [
    "# sum = 1 + x/1! + x^2/2! +  x^3/3!\n",
    "n = int(input(\"Enter Range: \"))\n",
    "x = int(input(\"Enter x value: \"))\n",
    "def fact(x):\n",
    "    if(x == 1): return 1\n",
    "    return x * fact(x - 1)\n",
    "\n",
    "sum = 1\n",
    "for i in range(1,n):\n",
    "    sum += (x**i)/fact(i)\n",
    "    \n",
    "print(f'n is {n}, x is {x}')\n",
    "print(f'Sum: {sum:.2f}')"
   ]
  },
  {
   "cell_type": "code",
   "execution_count": 38,
   "metadata": {},
   "outputs": [
    {
     "name": "stdout",
     "output_type": "stream",
     "text": [
      "25 is a Automorphic Number\n"
     ]
    }
   ],
   "source": [
    "# Automorphic number\n",
    "# A number is called an automorphic number if and only if the square of the given number ends with the same number itself.\n",
    "# eg. 25,   25^2 = 6(25) \n",
    "import math\n",
    "n = int(input(\"Enter Number: \"))\n",
    "count = int(math.log10(n))+1\n",
    "\n",
    "sqN = n * n\n",
    "lastSqDigit = sqN % (10 ** count)\n",
    "\n",
    "if lastSqDigit == n:\n",
    "    print(f\"{n} is a Automorphic Number\")\n",
    "else:\n",
    "    print(f\"{n} is not a Automorphic Number\")\n",
    "\n"
   ]
  },
  {
   "cell_type": "code",
   "execution_count": 40,
   "metadata": {},
   "outputs": [
    {
     "name": "stdout",
     "output_type": "stream",
     "text": [
      "145 is a Peterson Number\n"
     ]
    }
   ],
   "source": [
    "# Peterson Number\n",
    "# A number is said to be Peterson if the sum of factorials of each digit is equal to the sum of the number itself.\n",
    "# eg. 145 \n",
    "# = !1 + !4 + !5\n",
    "# = 1 + 24 + 120\n",
    "# = 145\n",
    "n = int(input(\"Enter Number: \"))\n",
    "temp = n\n",
    "sum = 0\n",
    "while temp > 0:\n",
    "    sum += fact(temp%10)\n",
    "    temp //= 10\n",
    "\n",
    "if sum == n:\n",
    "    print(f'{n} is a Peterson Number')\n",
    "else:\n",
    "    print(f'{n} is not a Peterson Number')"
   ]
  },
  {
   "cell_type": "code",
   "execution_count": 14,
   "metadata": {},
   "outputs": [
    {
     "name": "stdout",
     "output_type": "stream",
     "text": [
      "2025 is a Tech Number\n"
     ]
    }
   ],
   "source": [
    "# Tech Number\n",
    "# A number is called a tech number if the given number has an even number of digits and the number can be divided exactly into two parts from the middle.\n",
    "# After equally dividing the number, sum up the numbers and find the square of the sum. If we get the number itself as square, the given number is a tech number, else, not a tech number. \n",
    "# e.g, 2025\n",
    "# =20  25\n",
    "# =20 + 25 = 45\n",
    "# =45 * 45 = 2025\n",
    "\n",
    "n = input(\"Enter Number: \")\n",
    "length = len(n)\n",
    "if length % 2 == 0:\n",
    "    part1 = int(n[:length//2])\n",
    "    part2 = int(n[length//2:])\n",
    "    add = part1 + part2\n",
    "    if (add*add) == int(n):\n",
    "        print(f'{n} is a Tech Number')\n",
    "    else:\n",
    "        print(f'{n} is not a Tech Number')\n",
    "else:\n",
    "    print(f'{n} is not a Tech Number')"
   ]
  },
  {
   "cell_type": "code",
   "execution_count": 7,
   "metadata": {},
   "outputs": [
    {
     "name": "stdout",
     "output_type": "stream",
     "text": [
      "1 10\n",
      "2 9\n",
      "4 7\n",
      "5 6\n"
     ]
    }
   ],
   "source": [
    "# 1 10\n",
    "# 2 9\n",
    "# 3 8\n",
    "# 4 7\n",
    "# 5 6\n",
    "\n",
    "for i in range(1,6):\n",
    "    if i==3: continue\n",
    "    print(f'{i} {11-i}')"
   ]
  },
  {
   "cell_type": "code",
   "execution_count": 15,
   "metadata": {},
   "outputs": [
    {
     "name": "stdout",
     "output_type": "stream",
     "text": [
      "10\n"
     ]
    },
    {
     "ename": "NameError",
     "evalue": "name 'a' is not defined",
     "output_type": "error",
     "traceback": [
      "\u001b[1;31m---------------------------------------------------------------------------\u001b[0m",
      "\u001b[1;31mNameError\u001b[0m                                 Traceback (most recent call last)",
      "\u001b[1;32md:\\Bootcamp\\Campus_Credentials_Bootcamp\\day2.ipynb Cell 34\u001b[0m line \u001b[0;36m5\n\u001b[0;32m      <a href='vscode-notebook-cell:/d%3A/Bootcamp/Campus_Credentials_Bootcamp/day2.ipynb#X51sZmlsZQ%3D%3D?line=2'>3</a>\u001b[0m \u001b[39mprint\u001b[39m(a)\n\u001b[0;32m      <a href='vscode-notebook-cell:/d%3A/Bootcamp/Campus_Credentials_Bootcamp/day2.ipynb#X51sZmlsZQ%3D%3D?line=3'>4</a>\u001b[0m \u001b[39mdel\u001b[39;00m a\n\u001b[1;32m----> <a href='vscode-notebook-cell:/d%3A/Bootcamp/Campus_Credentials_Bootcamp/day2.ipynb#X51sZmlsZQ%3D%3D?line=4'>5</a>\u001b[0m \u001b[39mprint\u001b[39m(a)\n",
      "\u001b[1;31mNameError\u001b[0m: name 'a' is not defined"
     ]
    }
   ],
   "source": [
    "# del - it is a keyword using to delte variables, list, variable, etc\n",
    "# __del__ is destructor, __init__ is constructor \n",
    "a = 10\n",
    "print(a)\n",
    "del a\n",
    "print(a)"
   ]
  },
  {
   "cell_type": "code",
   "execution_count": 18,
   "metadata": {},
   "outputs": [
    {
     "name": "stdout",
     "output_type": "stream",
     "text": [
      "6\n",
      "-1\n",
      "18\n"
     ]
    }
   ],
   "source": [
    "# find()\n",
    "# rfind()\n",
    "s = 'Hello World Hello World'\n",
    "print(s.find('World'))\n",
    "print(s.find(\"Hi\"))\n",
    "print(s.rfind('World'))"
   ]
  },
  {
   "cell_type": "code",
   "execution_count": 27,
   "metadata": {},
   "outputs": [
    {
     "name": "stdout",
     "output_type": "stream",
     "text": [
      "4\n",
      "3\n",
      "2\n",
      "bcdab\n"
     ]
    }
   ],
   "source": [
    "# count(to_find, from, till)\n",
    "s = 'abcdabcdabcda'\n",
    "print(s.count('a'))\n",
    "print(s.count('ab'))\n",
    "print(s.count('b',5,10))\n",
    "print(s[5:10])"
   ]
  },
  {
   "cell_type": "code",
   "execution_count": 29,
   "metadata": {},
   "outputs": [
    {
     "data": {
      "text/plain": [
       "'python and java is easy'"
      ]
     },
     "execution_count": 29,
     "metadata": {},
     "output_type": "execute_result"
    }
   ],
   "source": [
    "# replace(old, new, no.of times to replace)\n",
    "s = 'java and java is easy'\n",
    "s.replace('java', 'python',1)"
   ]
  },
  {
   "cell_type": "code",
   "execution_count": 36,
   "metadata": {},
   "outputs": [
    {
     "name": "stdout",
     "output_type": "stream",
     "text": [
      "['python', 'is', 'easy', 'to', 'learn']\n"
     ]
    },
    {
     "data": {
      "text/plain": [
       "['python', 'is', 'easy', 'to learn']"
      ]
     },
     "execution_count": 36,
     "metadata": {},
     "output_type": "execute_result"
    }
   ],
   "source": [
    "# split()\n",
    "s = 'python is easy to learn'\n",
    "print(s.split(' '))\n",
    "s = 'python-is-easy-to learn'\n",
    "s.split('-')"
   ]
  },
  {
   "cell_type": "code",
   "execution_count": 38,
   "metadata": {},
   "outputs": [
    {
     "data": {
      "text/plain": [
       "'hello world all ok'"
      ]
     },
     "execution_count": 38,
     "metadata": {},
     "output_type": "execute_result"
    }
   ],
   "source": [
    "# join()\n",
    "li = [\"hello\", \"world\", \"all\", \"ok\"]\n",
    "s = ' '.join(li)\n",
    "s"
   ]
  },
  {
   "cell_type": "code",
   "execution_count": 46,
   "metadata": {},
   "outputs": [
    {
     "name": "stdout",
     "output_type": "stream",
     "text": [
      "python is easy to learn\n",
      "PYTHON IS EASY TO LEARN\n",
      "PYTHON iS eASY tO learn\n",
      "Python is easy to learn\n",
      "Python Is Easy To Learn\n"
     ]
    }
   ],
   "source": [
    "# upper()\n",
    "# lower()\n",
    "# swapcase()\n",
    "#capitalize()\n",
    "#title()\n",
    "\n",
    "s = 'python Is Easy To LEARN'\n",
    "print(s.lower())\n",
    "print(s.upper())\n",
    "print(s.swapcase())\n",
    "print(s.capitalize())\n",
    "print(s.title())"
   ]
  },
  {
   "cell_type": "code",
   "execution_count": 48,
   "metadata": {},
   "outputs": [
    {
     "name": "stdout",
     "output_type": "stream",
     "text": [
      "True\n",
      "False\n",
      "True\n",
      "False\n"
     ]
    }
   ],
   "source": [
    "# startswith()\n",
    "# endswith()\n",
    "\n",
    "s = 'hello world all'\n",
    "print(s.startswith('hello'))\n",
    "print(s.startswith('Hello'))\n",
    "print(s.endswith('all'))\n",
    "print(s.endswith('world'))"
   ]
  },
  {
   "cell_type": "code",
   "execution_count": 61,
   "metadata": {},
   "outputs": [
    {
     "name": "stdout",
     "output_type": "stream",
     "text": [
      "1  True\n",
      "1  False\n",
      "2  True\n",
      "2  False\n",
      "3  False\n",
      "3  True\n",
      "4  True\n",
      "4  False\n",
      "5  True\n",
      "5  False\n",
      "6  True\n",
      "6  False\n",
      "7  True\n",
      "7  False\n"
     ]
    }
   ],
   "source": [
    "# isalnum() -> digit + alphabet + no special chars\n",
    "# isaplha() -> alphabet\n",
    "# isdigit() -> digit\n",
    "# islower()\n",
    "# isupper()\n",
    "# istitle()\n",
    "# isspace() -> only space\n",
    "print(\"1 \", 'abcd124'.isalnum())\n",
    "print(\"1 \", 'abcd124@#'.isalnum())\n",
    "\n",
    "print(\"2 \", 'abcd'.isalpha())\n",
    "print(\"2 \", 'abcd124'.isalpha())\n",
    "\n",
    "print(\"3 \", 'abcd124'.isdigit())\n",
    "print(\"3 \", '76124'.isdigit())\n",
    "\n",
    "print(\"4 \", 'abcd124'.islower())\n",
    "print(\"4 \", '1246756'.islower())\n",
    "\n",
    "print(\"5 \", 'AB124'.isupper())\n",
    "print(\"5 \", '124'.isupper())\n",
    "\n",
    "print(\"6 \", 'Abcd124'.istitle())\n",
    "print(\"6 \", 'abcd124'.istitle())\n",
    "\n",
    "print(\"7 \", '   '.isspace())\n",
    "print(\"7 \", 'a3 #'.isspace())"
   ]
  },
  {
   "cell_type": "code",
   "execution_count": 71,
   "metadata": {},
   "outputs": [
    {
     "name": "stdout",
     "output_type": "stream",
     "text": [
      "olleh\n",
      "olleh\n"
     ]
    }
   ],
   "source": [
    "# Reverse String\n",
    "s = 'hello'\n",
    "print(s[::-1])\n",
    "print(''.join(reversed(s)))"
   ]
  },
  {
   "cell_type": "code",
   "execution_count": 70,
   "metadata": {},
   "outputs": [
    {
     "name": "stdout",
     "output_type": "stream",
     "text": [
      "olleh"
     ]
    }
   ],
   "source": [
    "for i in reversed(s):\n",
    "    print(i, end=\"\")"
   ]
  },
  {
   "cell_type": "code",
   "execution_count": 78,
   "metadata": {},
   "outputs": [
    {
     "name": "stdout",
     "output_type": "stream",
     "text": [
      "dlrow olle\n"
     ]
    }
   ],
   "source": [
    "s = \"hello world\"\n",
    "new_s = ''\n",
    "for i in range(len(s)-1,0,-1):\n",
    "    new_s += s[i]\n",
    "print(new_s)"
   ]
  },
  {
   "cell_type": "code",
   "execution_count": 80,
   "metadata": {},
   "outputs": [
    {
     "name": "stdout",
     "output_type": "stream",
     "text": [
      "jitihsK\n"
     ]
    }
   ],
   "source": [
    "s='Kshitij'\n",
    "rev=''\n",
    "for i in s:\n",
    "    rev = i + rev\n",
    "print(rev)"
   ]
  },
  {
   "cell_type": "code",
   "execution_count": 87,
   "metadata": {},
   "outputs": [
    {
     "data": {
      "text/plain": [
       "'Hard not and Easy is Python Learning'"
      ]
     },
     "execution_count": 87,
     "metadata": {},
     "output_type": "execute_result"
    }
   ],
   "source": [
    "# Reverse order of words\n",
    "s = \"Learning Python is Easy and not Hard\"\n",
    "' '.join(reversed(s.split()))"
   ]
  },
  {
   "cell_type": "code",
   "execution_count": 91,
   "metadata": {},
   "outputs": [
    {
     "name": "stdout",
     "output_type": "stream",
     "text": [
      "gninraeL nohtyP si ysaE dna ton draH \n"
     ]
    }
   ],
   "source": [
    "# reverse each word at same place\n",
    "s = \"Learning Python is Easy and not Hard\"\n",
    "rev = ''\n",
    "for word in s.split():\n",
    "    rev += ''.join(reversed(word)) + ' '\n",
    "\n",
    "print(rev)\n"
   ]
  },
  {
   "cell_type": "code",
   "execution_count": 97,
   "metadata": {},
   "outputs": [
    {
     "data": {
      "text/plain": [
       "'gninraeL nohtyP si ysaE dna ton draH'"
      ]
     },
     "execution_count": 97,
     "metadata": {},
     "output_type": "execute_result"
    }
   ],
   "source": [
    "s = \"Learning Python is Easy and not Hard\"\n",
    "''.join(reversed(' '.join(reversed(s.split()))))"
   ]
  },
  {
   "cell_type": "code",
   "execution_count": 99,
   "metadata": {},
   "outputs": [
    {
     "data": {
      "text/plain": [
       "'DCAB'"
      ]
     },
     "execution_count": 99,
     "metadata": {},
     "output_type": "execute_result"
    }
   ],
   "source": [
    "# Remove Duplicates\n",
    "s = 'ABCDABCABCBACBBACBABCDD'\n",
    "''.join(set(s))"
   ]
  },
  {
   "cell_type": "code",
   "execution_count": 100,
   "metadata": {},
   "outputs": [
    {
     "data": {
      "text/plain": [
       "'ABCD'"
      ]
     },
     "execution_count": 100,
     "metadata": {},
     "output_type": "execute_result"
    }
   ],
   "source": [
    "li = []\n",
    "for i in s:\n",
    "    if i not in li:\n",
    "        li.append(i)\n",
    "\n",
    "''.join(li)"
   ]
  },
  {
   "cell_type": "code",
   "execution_count": 103,
   "metadata": {},
   "outputs": [
    {
     "name": "stdout",
     "output_type": "stream",
     "text": [
      "Number is 9316437935\n",
      "Its a Valid Number.\n"
     ]
    }
   ],
   "source": [
    "# Accept Mobile Number\n",
    "# 1. check mobile number is of 10 digit and digit only\n",
    "# 2. Number valid in India\n",
    "\n",
    "n = input(\"Enter Mobile Number: \")\n",
    "print(f'Number is {n}')\n",
    "if(n.isdigit() and len(n)==10 and (n.startswith('6') or n.startswith('7') or n.startswith('8') or n.startswith('9'))):\n",
    "    print(\"Its a Valid Number.\")\n",
    "else:\n",
    "    print(\"Its not a Valid Number.\")"
   ]
  }
 ],
 "metadata": {
  "kernelspec": {
   "display_name": "Python 3",
   "language": "python",
   "name": "python3"
  },
  "language_info": {
   "codemirror_mode": {
    "name": "ipython",
    "version": 3
   },
   "file_extension": ".py",
   "mimetype": "text/x-python",
   "name": "python",
   "nbconvert_exporter": "python",
   "pygments_lexer": "ipython3",
   "version": "3.8.10"
  },
  "orig_nbformat": 4
 },
 "nbformat": 4,
 "nbformat_minor": 2
}
