{
 "cells": [
  {
   "cell_type": "code",
   "execution_count": null,
   "metadata": {},
   "outputs": [],
   "source": [
    "# 1. Check number is less than 10\n",
    "# 2. Check numbers are equivalent\n",
    "# 3. Check voting eligibility\n",
    "# 4. Check if number is even or odd\n",
    "# 5. Enter three angles & check if it is a triangle\n",
    "# 6. Find total marks & percentage\n",
    "# 7. Check for leap year\n",
    "# 8. Check number is +ve, -ve or zero\n",
    "# 9. Largest amongst three numbers\n",
    "# 10. Print grade of employee\n",
    "# 11. Print Color Name\n",
    "# 12. Print gross salary of employee\n",
    "# 13. Print division scored by student\n",
    "# 14. Find greatest among 3 numbers\n",
    "# 15. Check if student scored distinction\n",
    "# 16. Check type of triangle\n",
    "# 17. Check sum of digit greater than 10\n",
    "# 18. Print single digit number in words\n",
    "# 19. Print numbers in words\n",
    "# 20. Read a day of week in digit\n",
    "# 21. Perform arithmetic operations\n",
    "# 22. Check alphabet is vowel or consonant\n",
    "# 23. Check number is even or odd"
   ]
  },
  {
   "cell_type": "code",
   "execution_count": 1,
   "metadata": {},
   "outputs": [
    {
     "name": "stdout",
     "output_type": "stream",
     "text": [
      "Number less than 10\n"
     ]
    }
   ],
   "source": [
    "#1\n",
    "if int(input(\"Enter number\")) < 10:\n",
    "    print(\"Number less than 10\")\n",
    "else:\n",
    "    print(\"Number gretaer than or equal to 10\")"
   ]
  },
  {
   "cell_type": "code",
   "execution_count": 3,
   "metadata": {},
   "outputs": [
    {
     "name": "stdout",
     "output_type": "stream",
     "text": [
      "Equal\n"
     ]
    }
   ],
   "source": [
    "#2\n",
    "n1 = int(input(\"Enter number 1: \"))\n",
    "n2 = int(input(\"Enter number 2: \"))\n",
    "if n1 == n2:\n",
    "    print(\"Equal\")\n",
    "else:\n",
    "    print(\"Unequal\")"
   ]
  },
  {
   "cell_type": "code",
   "execution_count": 4,
   "metadata": {},
   "outputs": [
    {
     "name": "stdout",
     "output_type": "stream",
     "text": [
      "Eligible to vote\n"
     ]
    }
   ],
   "source": [
    "#3\n",
    "age  = int(input(\"Enter age: \"))\n",
    "if age >= 18:\n",
    "    print(\"Eligible to vote\")\n",
    "else:\n",
    "    print(\"Not eligible\")"
   ]
  },
  {
   "cell_type": "code",
   "execution_count": 5,
   "metadata": {},
   "outputs": [
    {
     "name": "stdout",
     "output_type": "stream",
     "text": [
      "Odd\n"
     ]
    }
   ],
   "source": [
    "#4 \n",
    "n = int(input(\"Enter number\"))\n",
    "if n % 2 == 0:\n",
    "    print(\"Even\")\n",
    "else:\n",
    "    print(\"Odd\")"
   ]
  },
  {
   "cell_type": "code",
   "execution_count": 8,
   "metadata": {},
   "outputs": [
    {
     "name": "stdout",
     "output_type": "stream",
     "text": [
      "Valid Triangle\n"
     ]
    }
   ],
   "source": [
    "#5\n",
    "a1 = int(input(\"Input angle 1\"))\n",
    "a2 = int(input(\"Input angle 2\"))\n",
    "a3 = int(input(\"Input angle 3\"))\n",
    "if sum([a1,a2,a3]) == 180:\n",
    "    print(\"Valid Triangle\")\n",
    "else:\n",
    "    print(\"Not valid triangle\")"
   ]
  },
  {
   "cell_type": "code",
   "execution_count": 10,
   "metadata": {},
   "outputs": [
    {
     "name": "stdout",
     "output_type": "stream",
     "text": [
      "Total: 429, Percentage: 85.8\n"
     ]
    }
   ],
   "source": [
    "# 6\n",
    "marks = list(map(int, input(\"Enter 5 marks: \").split()))\n",
    "total = sum(marks)\n",
    "percentage = total / 5\n",
    "print(f\"Total: {total}, Percentage: {percentage}\")"
   ]
  },
  {
   "cell_type": "code",
   "execution_count": 11,
   "metadata": {},
   "outputs": [
    {
     "name": "stdout",
     "output_type": "stream",
     "text": [
      "Leap Year\n"
     ]
    }
   ],
   "source": [
    "# 7\n",
    "year = int(input(\"Enter year: \"))\n",
    "if year % 400 == 0:\n",
    "    print(\"Leap Year\")\n",
    "elif year % 100 == 0:\n",
    "    print(\"Not a Leap year\")\n",
    "elif year % 4 == 0:\n",
    "    print(\"Leap Year\")\n",
    "else:\n",
    "    print(\"Not a Leap year\")"
   ]
  },
  {
   "cell_type": "code",
   "execution_count": 12,
   "metadata": {},
   "outputs": [
    {
     "name": "stdout",
     "output_type": "stream",
     "text": [
      "Negative\n"
     ]
    }
   ],
   "source": [
    "# 8\n",
    "n = int(input(\"Enter number\"))\n",
    "if n > 0:\n",
    "    print(\"Positive\")\n",
    "elif n < 0:\n",
    "    print(\"Negative\")\n",
    "else:\n",
    "    print(\"Zero\")"
   ]
  },
  {
   "cell_type": "code",
   "execution_count": 17,
   "metadata": {},
   "outputs": [
    {
     "name": "stdout",
     "output_type": "stream",
     "text": [
      "9\n"
     ]
    }
   ],
   "source": [
    "# 9\n",
    "n1 = int(input(\"Enter number 1: \"))\n",
    "n2 = int(input(\"Enter number 2: \"))\n",
    "n3 = int(input(\"Enter number 3: \"))\n",
    "print(n1 if n1>n2 and n1>n2 else n2 if n2>n3 else n3)"
   ]
  },
  {
   "cell_type": "code",
   "execution_count": null,
   "metadata": {},
   "outputs": [],
   "source": [
    "# 10\n",
    "salary = int(input(\"Enter employee's salary: \"))\n",
    "grade = 'A' if salary >= 8000 else 'B' if salary >= 5000 else 'C'\n",
    "print(f\"Employee Grade: {grade}\")"
   ]
  },
  {
   "cell_type": "code",
   "execution_count": null,
   "metadata": {},
   "outputs": [],
   "source": [
    "# 11\n",
    "color_code = input(\"Enter color code (e.g., R for Red, G for Green): \").upper()\n",
    "colors = {'R': 'Red', 'G': 'Green', 'B': 'Blue', 'Y': 'Yellow'}\n",
    "print(colors.get(color_code, \"Unknown Color\"))"
   ]
  },
  {
   "cell_type": "code",
   "execution_count": null,
   "metadata": {},
   "outputs": [],
   "source": [
    "# 12\n",
    "basic_salary = float(input(\"Enter basic salary: \"))\n",
    "hra = basic_salary * 0.20\n",
    "da = basic_salary * 0.10\n",
    "gross_salary = basic_salary + hra + da\n",
    "print(f\"Gross Salary: {gross_salary}\")"
   ]
  },
  {
   "cell_type": "code",
   "execution_count": null,
   "metadata": {},
   "outputs": [],
   "source": [
    "# 13\n",
    "marks = float(input(\"Enter marks: \"))\n",
    "division = 'First' if marks >= 60 else 'Second' if marks >= 50 else 'Third' if marks >= 35 else 'Fail'\n",
    "print(f\"Division: {division}\")"
   ]
  },
  {
   "cell_type": "code",
   "execution_count": null,
   "metadata": {},
   "outputs": [],
   "source": [
    "# 14\n",
    "a, b, c = map(int, input(\"Enter three numbers: \").split())\n",
    "greatest = max(a, b, c)\n",
    "print(f\"Greatest number is: {greatest}\")"
   ]
  },
  {
   "cell_type": "code",
   "execution_count": null,
   "metadata": {},
   "outputs": [],
   "source": [
    "# 15\n",
    "marks = float(input(\"Enter marks: \"))\n",
    "print(\"Distinction\" if marks >= 75 else \"No Distinction\")"
   ]
  },
  {
   "cell_type": "code",
   "execution_count": null,
   "metadata": {},
   "outputs": [],
   "source": [
    "# 16\n",
    "a, b, c = map(int, input(\"Enter three sides of a triangle: \").split())\n",
    "if a == b == c:\n",
    "    print(\"Equilateral Triangle\")\n",
    "elif a == b or b == c or a == c:\n",
    "    print(\"Isosceles Triangle\")\n",
    "else:\n",
    "    print(\"Scalene Triangle\")"
   ]
  },
  {
   "cell_type": "code",
   "execution_count": 19,
   "metadata": {},
   "outputs": [
    {
     "name": "stdout",
     "output_type": "stream",
     "text": [
      "Sum of digits is 10 or less\n"
     ]
    }
   ],
   "source": [
    "# 17\n",
    "number = input(\"Enter a number: \")\n",
    "sum_of_digits = sum(int(digit) for digit in number)\n",
    "print(\"Sum of digits is greater than 10\" if sum_of_digits > 10 else \"Sum of digits is 10 or less\")"
   ]
  },
  {
   "cell_type": "code",
   "execution_count": null,
   "metadata": {},
   "outputs": [],
   "source": [
    "# 18\n",
    "num = int(input(\"Enter a single-digit number (0-9): \"))\n",
    "words = [\"Zero\", \"One\", \"Two\", \"Three\", \"Four\", \"Five\", \"Six\", \"Seven\", \"Eight\", \"Nine\"]\n",
    "print(words[num] if 0 <= num <= 9 else \"Invalid Input\")"
   ]
  },
  {
   "cell_type": "code",
   "execution_count": null,
   "metadata": {},
   "outputs": [],
   "source": [
    "# 19\n",
    "number = input(\"Enter a number: \")\n",
    "words = [\"Zero\", \"One\", \"Two\", \"Three\", \"Four\", \"Five\", \"Six\", \"Seven\", \"Eight\", \"Nine\"]\n",
    "print(\" \".join(words[int(digit)] for digit in number))"
   ]
  },
  {
   "cell_type": "code",
   "execution_count": null,
   "metadata": {},
   "outputs": [],
   "source": [
    "# 20\n",
    "day = int(input(\"Enter a day of the week (1-7): \"))\n",
    "days = [\"Monday\", \"Tuesday\", \"Wednesday\", \"Thursday\", \"Friday\", \"Saturday\", \"Sunday\"]\n",
    "print(days[day - 1] if 1 <= day <= 7 else \"Invalid Input\")"
   ]
  },
  {
   "cell_type": "code",
   "execution_count": null,
   "metadata": {},
   "outputs": [],
   "source": [
    "# 21\n",
    "a, b = map(int, input(\"Enter two numbers: \").split())\n",
    "print(f\"Addition: {a + b}, Subtraction: {a - b}, Multiplication: {a * b}, Division: {a / b if b != 0 else 'Undefined'}\")"
   ]
  },
  {
   "cell_type": "code",
   "execution_count": null,
   "metadata": {},
   "outputs": [],
   "source": [
    "# 22\n",
    "char = input(\"Enter an alphabet: \").lower()\n",
    "if char in 'aeiou':\n",
    "    print(\"Vowel\")\n",
    "elif char.isalpha():\n",
    "    print(\"Consonant\")\n",
    "else:\n",
    "    print(\"Invalid Input\")"
   ]
  },
  {
   "cell_type": "code",
   "execution_count": null,
   "metadata": {},
   "outputs": [],
   "source": [
    "# 23\n",
    "number = int(input(\"Enter a number: \"))\n",
    "print(\"Even\" if number % 2 == 0 else \"Odd\")"
   ]
  }
 ],
 "metadata": {
  "kernelspec": {
   "display_name": "Python 3",
   "language": "python",
   "name": "python3"
  },
  "language_info": {
   "codemirror_mode": {
    "name": "ipython",
    "version": 3
   },
   "file_extension": ".py",
   "mimetype": "text/x-python",
   "name": "python",
   "nbconvert_exporter": "python",
   "pygments_lexer": "ipython3",
   "version": "0.0.0"
  },
  "orig_nbformat": 4
 },
 "nbformat": 4,
 "nbformat_minor": 2
}
