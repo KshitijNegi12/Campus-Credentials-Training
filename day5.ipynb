{
 "cells": [
  {
   "cell_type": "markdown",
   "metadata": {},
   "source": [
    "Python Questions"
   ]
  },
  {
   "cell_type": "code",
   "execution_count": 5,
   "metadata": {},
   "outputs": [
    {
     "name": "stdout",
     "output_type": "stream",
     "text": [
      "[1, 3] [4, 6]\n"
     ]
    }
   ],
   "source": [
    "# 1. find difference b/w arrays\n",
    "num1 = [1,2,3]\n",
    "num2 = [2,4,6]\n",
    "res1 = []\n",
    "res2 = []\n",
    "for i in num1:\n",
    "    flag  = False\n",
    "    for j in num2:\n",
    "        if i == j:\n",
    "            flag = True\n",
    "            break\n",
    "    if flag is False:\n",
    "        res1.append(i)\n",
    "\n",
    "for i in num2:\n",
    "    flag  = False\n",
    "    for j in num1:\n",
    "        if i == j:\n",
    "            flag = True\n",
    "            break\n",
    "    if flag is False:\n",
    "        res2.append(i)\n",
    "\n",
    "print(res1, res2)"
   ]
  },
  {
   "cell_type": "code",
   "execution_count": 11,
   "metadata": {},
   "outputs": [
    {
     "name": "stdout",
     "output_type": "stream",
     "text": [
      "{1, 3} {4, 6}\n"
     ]
    }
   ],
   "source": [
    "s1 = {1,2,3}\n",
    "s2 = {2,4,6}\n",
    "print(s1.difference(s2), s2.difference(s1))"
   ]
  },
  {
   "cell_type": "code",
   "execution_count": 21,
   "metadata": {},
   "outputs": [
    {
     "name": "stdout",
     "output_type": "stream",
     "text": [
      "Your Number is 64\n",
      "YES it's in power of 4\n"
     ]
    }
   ],
   "source": [
    "# 2. power of 4\n",
    "import math\n",
    "n = int(input(\"Enter the number\"))\n",
    "print(f\"Your Number is {n}\")\n",
    "if n != 0:\n",
    "    float_val = math.log10(n)/math.log10(4)\n",
    "    int_val = int(float_val)\n",
    "    if float_val > int_val:\n",
    "        print(\"Not a power of 4\")\n",
    "    else:\n",
    "        print(\"YES it's in power of 4\")\n",
    "else:\n",
    "        print(\"Not a power of 4\")"
   ]
  },
  {
   "cell_type": "code",
   "execution_count": 37,
   "metadata": {},
   "outputs": [
    {
     "name": "stdout",
     "output_type": "stream",
     "text": [
      "[17, 5, 2]\n",
      "[4, 0]\n"
     ]
    }
   ],
   "source": [
    "# 3. Find leaders { i<N {j= (i+1, len(arr)]} , a[i]>a[j]\n",
    "def calLeader(arr):\n",
    "    max_curr = -1e9\n",
    "    res = []\n",
    "    for i in reversed(arr):\n",
    "        if i > max_curr:\n",
    "            res.append(i)\n",
    "        max_curr = max(max_curr,i)\n",
    "\n",
    "    res.reverse()\n",
    "    print(res)\n",
    "arr = [16, 17, 4, 3, 5, 2]\n",
    "calLeader(arr)\n",
    "arr2 = [1,2,3,4,0]\n",
    "calLeader(arr2)"
   ]
  },
  {
   "cell_type": "code",
   "execution_count": 46,
   "metadata": {},
   "outputs": [
    {
     "name": "stdout",
     "output_type": "stream",
     "text": [
      "Equals\n"
     ]
    }
   ],
   "source": [
    "# 4. check if array is equal\n",
    "\n",
    "def isEqual(arr1, arr2):\n",
    "    arr1.sort()\n",
    "    arr2.sort()\n",
    "    for i in range(len(arr1)):\n",
    "        if arr1[i] != arr2[i]:\n",
    "            return False\n",
    "    return True \n",
    "\n",
    "\n",
    "arr1 = [1,2,5,4,0]\n",
    "arr2 = [2,4,5,0,1]\n",
    "if isEqual(arr1,arr2):\n",
    "    print(\"Equals\")\n",
    "else:\n",
    "    print(\"Not Equal\")"
   ]
  },
  {
   "cell_type": "code",
   "execution_count": 12,
   "metadata": {},
   "outputs": [
    {
     "name": "stdout",
     "output_type": "stream",
     "text": [
      "[-1, 2, -3, 4, -6, 5]\n",
      "[-1, 2, -2, 1, -4, 3]\n"
     ]
    }
   ],
   "source": [
    "# 5. Print element of arr in order of -ve and +ve ele in alternative order\n",
    "def alternate(arr):\n",
    "    i = 0\n",
    "    for k in range(len(arr)):\n",
    "        if arr[k]<0:\n",
    "            arr[k], arr[i] = arr[i], arr[k]\n",
    "            i+=2\n",
    "    print(arr)\n",
    "    \n",
    "arr = [-1,2,-3,4,5,-6]\n",
    "alternate(arr)\n",
    "arr2 = [1,2,3,-1,-2,-4]\n",
    "alternate(arr2)"
   ]
  },
  {
   "cell_type": "code",
   "execution_count": 14,
   "metadata": {},
   "outputs": [
    {
     "name": "stdout",
     "output_type": "stream",
     "text": [
      "4\n"
     ]
    }
   ],
   "source": [
    "# 6. count the majority element that appear more than n/2 times;\n",
    "arr = [3,3,4,2,4,4,2,4,4]\n",
    "maj_ele = -1\n",
    "occr = 0\n",
    "for i in arr:\n",
    "    if i == maj_ele:\n",
    "        occr += 1\n",
    "    else:\n",
    "        if occr > 0:\n",
    "            occr -= 1\n",
    "        else:\n",
    "            maj_ele = i\n",
    "            occr = 1\n",
    "\n",
    "occr = 0\n",
    "for i in arr:\n",
    "    if i == maj_ele:\n",
    "        occr+=1\n",
    "\n",
    "if(occr>len(arr)/2):\n",
    "    print(maj_ele)\n",
    "else:\n",
    "    print(\"None\")\n",
    "    "
   ]
  },
  {
   "cell_type": "code",
   "execution_count": 17,
   "metadata": {},
   "outputs": [
    {
     "name": "stdout",
     "output_type": "stream",
     "text": [
      "[1, 3, 12, 0, 0]\n"
     ]
    }
   ],
   "source": [
    "# 7. Move zeroes in array to the last\n",
    "arr = [0,1,0,3,12]\n",
    "j = 0\n",
    "for i in range(len(arr)):\n",
    "    if arr[i] > 0:\n",
    "        arr[i], arr[j] = arr[j], arr[i]\n",
    "        j+=1\n",
    "\n",
    "print(arr)"
   ]
  },
  {
   "cell_type": "code",
   "execution_count": 29,
   "metadata": {},
   "outputs": [
    {
     "name": "stdout",
     "output_type": "stream",
     "text": [
      "[40, 50, 10, 20, 30]\n",
      "[40, 10, 20, 30]\n"
     ]
    }
   ],
   "source": [
    "# 8. Given array of N size, rotate it clockwise K times\n",
    "def myReverse(arr, i, j):\n",
    "    while i < j:\n",
    "        arr[i], arr[j] = arr[j], arr[i]\n",
    "        i+=1\n",
    "        j-=1\n",
    "\n",
    "def clockwiseRotate(arr, k):\n",
    "    arr.reverse()\n",
    "    myReverse(arr,0,k-1)\n",
    "    myReverse(arr,k,len(arr)-1)\n",
    "    print(arr)\n",
    "\n",
    "arr = [10,20,30,40,50]\n",
    "k = 2\n",
    "clockwiseRotate(arr, k)\n",
    "clockwiseRotate([10,20,30,40], 1)"
   ]
  },
  {
   "cell_type": "code",
   "execution_count": 32,
   "metadata": {},
   "outputs": [
    {
     "name": "stdout",
     "output_type": "stream",
     "text": [
      "[40, 50, 10, 20, 30]\n",
      "[20, 30, 40, 10]\n"
     ]
    }
   ],
   "source": [
    "# 9. Given array of N size, rotate it anti-clockwise K times\n",
    "def myReverse(arr, i, j):\n",
    "    while i < j:\n",
    "        arr[i], arr[j] = arr[j], arr[i]\n",
    "        i+=1\n",
    "        j-=1\n",
    "\n",
    "def clockwiseRotate(arr, k):\n",
    "    myReverse(arr,0,k-1)\n",
    "    myReverse(arr,k,len(arr)-1)\n",
    "    arr.reverse()\n",
    "    print(arr)\n",
    "\n",
    "arr = [10,20,30,40,50]\n",
    "k = 3\n",
    "clockwiseRotate(arr, k)\n",
    "clockwiseRotate([10,20,30,40], 1)"
   ]
  },
  {
   "cell_type": "code",
   "execution_count": 40,
   "metadata": {},
   "outputs": [
    {
     "name": "stdout",
     "output_type": "stream",
     "text": [
      "[100, 1, 2, 3, 4, 5, 6]\n",
      "[200, 100, 1, 2, 3, 4, 5, 6]\n",
      "[300, 200, 100, 1, 2, 3, 4, 5, 6]\n"
     ]
    }
   ],
   "source": [
    "# appending in front of list \n",
    "from collections import deque\n",
    "arr= [1,2,3,4,5,6]\n",
    "arr.insert(0,100)\n",
    "print(arr)\n",
    "\n",
    "arr = deque(arr)\n",
    "arr.appendleft(200)\n",
    "arr = list(arr)\n",
    "print(arr)\n",
    "\n",
    "arr[:0] = [300]\n",
    "print(arr)\n"
   ]
  },
  {
   "cell_type": "code",
   "execution_count": 1,
   "metadata": {},
   "outputs": [
    {
     "name": "stdout",
     "output_type": "stream",
     "text": [
      "[3]\n"
     ]
    }
   ],
   "source": [
    "# 11 find intersection of 3 arrays\n",
    "map = {}\n",
    "def putIn(arr):\n",
    "    for i in arr:\n",
    "        if map.get(i):\n",
    "            map[i] = map[i]+1\n",
    "        else:\n",
    "            map[i]=1\n",
    "arr1 = [1, 2, 3]\n",
    "arr2 = [2, 3, 4]\n",
    "arr3 = [3, 4, 5]\n",
    "putIn(arr1)\n",
    "putIn(arr2)\n",
    "putIn(arr3)\n",
    "res = []\n",
    "for key, val in map.items():\n",
    "    if val == 3:\n",
    "        res.append(key)\n",
    "\n",
    "print(res)"
   ]
  },
  {
   "cell_type": "code",
   "execution_count": 11,
   "metadata": {},
   "outputs": [
    {
     "name": "stdout",
     "output_type": "stream",
     "text": [
      "['aba', 'b', 'aaa', 'a', 'aa']\n",
      "['k', 'ee', 'g', 'e']\n",
      "['aa', 'aaa', 'a']\n"
     ]
    }
   ],
   "source": [
    "# 12. Find all the distinct palindromic substring in a string\n",
    "def palin(s):\n",
    "    for i in range (len(s)//2):\n",
    "        if(s[i] != s[-1-i]):\n",
    "            return False\n",
    "    return True\n",
    "\n",
    "def plainsubstr(s):\n",
    "    st = set()\n",
    "    for i in range(len(s)):\n",
    "        for j in range(i,len(s)):\n",
    "            st.add(s[i:j+1])\n",
    "    \n",
    "    res = []\n",
    "    for i in st:\n",
    "        if palin(i): res.append(i)\n",
    "    \n",
    "    print(res)\n",
    "\n",
    "plainsubstr(\"abaaa\")\n",
    "plainsubstr(\"geek\")"
   ]
  },
  {
   "cell_type": "code",
   "execution_count": 29,
   "metadata": {},
   "outputs": [
    {
     "name": "stdout",
     "output_type": "stream",
     "text": [
      "2 7\n",
      "[2, 8, 1, 3, 5, 8, 4, 4]\n",
      "4\n"
     ]
    }
   ],
   "source": [
    "# 13 \n",
    "# r = no. of rats\n",
    "# unit = amount of food each rat consume\n",
    "# arr = amount of food present in each index\n",
    "def func(r, unit, arr, n):\n",
    "    food_req = r * unit\n",
    "    houses = 0\n",
    "    for i in arr:\n",
    "        if food_req > 0:\n",
    "            food_req = max(0, food_req-i)\n",
    "            houses+=1\n",
    "        else: break\n",
    "    \n",
    "    if food_req == 0:\n",
    "        return houses\n",
    "    else:\n",
    "        return 0\n",
    "    \n",
    "r = int(input(\"Enter No. of Rats:\"))\n",
    "unit = int(input(\"Enter amount of food each rat consume: \"))\n",
    "n = int(input(\"Enter Size of array: \"))\n",
    "print(r, unit)\n",
    "arr = list(eval(input(f\"Enter {n} element: \")))\n",
    "print(arr)\n",
    "print(func(r,unit,arr,n))"
   ]
  },
  {
   "cell_type": "code",
   "execution_count": 43,
   "metadata": {},
   "outputs": [
    {
     "name": "stdout",
     "output_type": "stream",
     "text": [
      "[10, 11, 7, 12, 14]\n",
      "12\n"
     ]
    }
   ],
   "source": [
    "#14\n",
    "# A company is transmitting data to another server. The data is in the form of numbers. To secure the data during transmission, they plan to obtain a security key that will be sent along with the data. The security key is identified as the count of the repeating digits in the data.\n",
    "# Write an algorithm to calculate and return the sum of distances between adjacent numbers in an array of positive integers.\n",
    "# Input:\n",
    "# - The first parameter is the number of items in the array.\n",
    "# - The second parameter is the array itself.\n",
    "# Output:\n",
    "# - Return the total distance between adjacent items in the array.\n",
    "# Example:\n",
    "# Given a list of 5 numbers:\n",
    "# Input: 10 11 7 12 14\n",
    "# Output: 12\n",
    "\n",
    "arr = list(eval(input(\"Enter Numbers: \")))\n",
    "print(arr)\n",
    "res = 0\n",
    "for i in range(len(arr)-1):\n",
    "    res += abs(arr[i] - arr[i+1])\n",
    "\n",
    "print(res)\n"
   ]
  },
  {
   "cell_type": "code",
   "execution_count": 48,
   "metadata": {},
   "outputs": [
    {
     "name": "stdout",
     "output_type": "stream",
     "text": [
      "3\n"
     ]
    }
   ],
   "source": [
    "# 15\n",
    "# A company is transmitting data to another server. The data is in the form of numbers. To secure the data during transmission, they plan to obtain a security key that will be sent along with the data. The security key is identified as the count of the repeating digits in the data.\n",
    "# Write an algorithm to find the security key for the data.\n",
    "\n",
    "# Input\n",
    "# The input consists of integer data, representing the data to be transmitted.\n",
    "\n",
    "# Output\n",
    "# Print an integer representing the security key for the given data. If no data is repeated it should display -1\n",
    "\n",
    "# Input:\n",
    "# 578378923\n",
    "\n",
    "# Output: 3\n",
    "# Explanation\n",
    "# The repeated digits in the data are 7, 8, and 3. So, the security key is 3.\n",
    "\n",
    "n=578378923\n",
    "# n = int(input(\"Enter Number: \"))\n",
    "mp = {}\n",
    "while n != 0:\n",
    "    if(mp.get(n%10)):\n",
    "        mp[n%10] = mp[n%10]+1\n",
    "    else:\n",
    "        mp[n%10] = 1\n",
    "    n//=10\n",
    "\n",
    "# print(mp)\n",
    "res = 0\n",
    "for i in mp.values():\n",
    "    if i>1:\n",
    "        res+=1\n",
    "\n",
    "print(res)\n"
   ]
  },
  {
   "cell_type": "code",
   "execution_count": 49,
   "metadata": {},
   "outputs": [
    {
     "name": "stdout",
     "output_type": "stream",
     "text": [
      "[1, 1, 1, 1, 1, 1, 2, 2, 2, 2, 2, 3, 3, 3, 3, 3]\n"
     ]
    }
   ],
   "source": [
    "# 16 sort array which contain 3 elements repeatedly\n",
    "arr = [1,2,3,1,2,3,1,2,3,1,2,3,2,1,1,3]\n",
    "l, m, r = 0, 0, len(arr)-1\n",
    "while m < r:\n",
    "    if arr[m] == 1:\n",
    "        arr[l], arr[m] = arr[m], arr[l]\n",
    "        l+=1\n",
    "        m+=1\n",
    "    elif arr[m] == 2:\n",
    "        m+=1\n",
    "    else:\n",
    "        arr[m], arr[r] = arr[r], arr[m]\n",
    "        r-=1\n",
    "\n",
    "print(arr)"
   ]
  },
  {
   "cell_type": "code",
   "execution_count": 1,
   "metadata": {},
   "outputs": [
    {
     "name": "stdout",
     "output_type": "stream",
     "text": [
      "8\n"
     ]
    }
   ],
   "source": [
    "# 17 find second larget element\n",
    "li = [2,8,1,5,3,4,13]\n",
    "largest = -1\n",
    "secondLargest = -1\n",
    "for ele in li:\n",
    "    if largest < ele:\n",
    "        secondLargest = largest\n",
    "        largest = ele\n",
    "    elif secondLargest < ele:\n",
    "        secondLargest = ele\n",
    "\n",
    "print(secondLargest)"
   ]
  },
  {
   "cell_type": "code",
   "execution_count": 54,
   "metadata": {},
   "outputs": [
    {
     "name": "stdout",
     "output_type": "stream",
     "text": [
      "3\n"
     ]
    }
   ],
   "source": [
    "# 19 Find Kth Smallest ele\n",
    "li = [5,2,8,3,1,9,4]\n",
    "k = 3\n",
    "li.sort()\n",
    "print(li[k-1])"
   ]
  }
 ],
 "metadata": {
  "kernelspec": {
   "display_name": "Python 3",
   "language": "python",
   "name": "python3"
  },
  "language_info": {
   "codemirror_mode": {
    "name": "ipython",
    "version": 3
   },
   "file_extension": ".py",
   "mimetype": "text/x-python",
   "name": "python",
   "nbconvert_exporter": "python",
   "pygments_lexer": "ipython3",
   "version": "3.8.10"
  },
  "orig_nbformat": 4
 },
 "nbformat": 4,
 "nbformat_minor": 2
}
