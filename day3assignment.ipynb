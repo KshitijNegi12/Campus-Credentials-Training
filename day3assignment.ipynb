{
 "cells": [
  {
   "cell_type": "code",
   "execution_count": 6,
   "metadata": {},
   "outputs": [
    {
     "name": "stdout",
     "output_type": "stream",
     "text": [
      "35\n"
     ]
    }
   ],
   "source": [
    "# max ele in a list\n",
    "li = [2,6,2,7,35,7]\n",
    "max_ele = -1\n",
    "for i in li:\n",
    "    if max_ele < i:\n",
    "        max_ele = i\n",
    "\n",
    "print(max_ele)"
   ]
  },
  {
   "cell_type": "code",
   "execution_count": 7,
   "metadata": {},
   "outputs": [
    {
     "name": "stdout",
     "output_type": "stream",
     "text": [
      "[1, 2, 3, 4]\n"
     ]
    }
   ],
   "source": [
    "#remove duplicates\n",
    "li = [1,2,2,2,3,4,3,1]\n",
    "li = set(li)\n",
    "li =list(li)\n",
    "print(li)"
   ]
  },
  {
   "cell_type": "code",
   "execution_count": 8,
   "metadata": {},
   "outputs": [
    {
     "name": "stdout",
     "output_type": "stream",
     "text": [
      "[6, 3, 5, 4, 2, 1]\n"
     ]
    }
   ],
   "source": [
    "#reverse a list\n",
    "li = [1,2,4,5,3,6]\n",
    "for i in range(len(li)//2):\n",
    "    li[i], li[-1-i] = li[-1-i],li[i]\n",
    "\n",
    "print(li)"
   ]
  },
  {
   "cell_type": "code",
   "execution_count": 10,
   "metadata": {},
   "outputs": [
    {
     "name": "stdout",
     "output_type": "stream",
     "text": [
      "palindrome\n"
     ]
    }
   ],
   "source": [
    "#check list is palindrome\n",
    "li = [1,2,4,2,1]\n",
    "palin = True\n",
    "for i in range(len(li)//2):\n",
    "    if li[i] != li[-1-i]:\n",
    "        palin = False\n",
    "        break\n",
    "\n",
    "if palin:\n",
    "    print(\"palindrome\")\n",
    "else:\n",
    "    print(\"Not palindrome\")"
   ]
  },
  {
   "cell_type": "code",
   "execution_count": 11,
   "metadata": {},
   "outputs": [
    {
     "name": "stdout",
     "output_type": "stream",
     "text": [
      "[1, 2, 4]\n"
     ]
    }
   ],
   "source": [
    "# find common in 2 list\n",
    "li1 = [1,2,3,4]\n",
    "li2 = [1,6,4,2]\n",
    "common = []\n",
    "for i in li1:\n",
    "    if i in li2:\n",
    "        common.append(i)\n",
    "\n",
    "print(common)"
   ]
  },
  {
   "cell_type": "code",
   "execution_count": 12,
   "metadata": {},
   "outputs": [
    {
     "name": "stdout",
     "output_type": "stream",
     "text": [
      "[1, 2, 3, 4, 5, 6, 7]\n"
     ]
    }
   ],
   "source": [
    "# merge 2 sorted list\n",
    "li1 = [1,3,5,6]\n",
    "li2 = [2,4,7]\n",
    "res = []\n",
    "i, j = 0, 0\n",
    "while (i < len(li1) and j<len(li2)):\n",
    "    if li1[i] < li2[j]:\n",
    "        res.append(li1[i])\n",
    "        i+=1\n",
    "    else:\n",
    "        res.append(li2[j])\n",
    "        j+=1\n",
    "\n",
    "while(i < len(li1)):\n",
    "    res.append(li1[i])\n",
    "    i+=1\n",
    "\n",
    "while(j < len(li2)):\n",
    "    res.append(li2[j])\n",
    "    j+=1\n",
    "print(res)"
   ]
  },
  {
   "cell_type": "code",
   "execution_count": 13,
   "metadata": {},
   "outputs": [
    {
     "name": "stdout",
     "output_type": "stream",
     "text": [
      "25\n"
     ]
    }
   ],
   "source": [
    "# sum of list\n",
    "li = [1,2,4,3,6,2,7]\n",
    "sum = 0\n",
    "for i in li:\n",
    "    sum += i\n",
    "print(sum)"
   ]
  }
 ],
 "metadata": {
  "kernelspec": {
   "display_name": "Python 3",
   "language": "python",
   "name": "python3"
  },
  "language_info": {
   "codemirror_mode": {
    "name": "ipython",
    "version": 3
   },
   "file_extension": ".py",
   "mimetype": "text/x-python",
   "name": "python",
   "nbconvert_exporter": "python",
   "pygments_lexer": "ipython3",
   "version": "3.8.10"
  },
  "orig_nbformat": 4
 },
 "nbformat": 4,
 "nbformat_minor": 2
}
