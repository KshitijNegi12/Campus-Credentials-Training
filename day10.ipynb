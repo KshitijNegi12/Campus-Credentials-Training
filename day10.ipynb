{
 "cells": [
  {
   "cell_type": "code",
   "execution_count": 9,
   "metadata": {},
   "outputs": [
    {
     "name": "stdout",
     "output_type": "stream",
     "text": [
      "[-1]\n",
      "[2, 3]\n"
     ]
    }
   ],
   "source": [
    "# find repeiting elements\n",
    "from collections import Counter\n",
    "def arrayDuplicate(li):\n",
    "    res = []\n",
    "    mp = Counter(li)\n",
    "    for i in mp:\n",
    "        if mp[i] > 1:\n",
    "            res.append(i)\n",
    "\n",
    "    if res:\n",
    "        return res\n",
    "    return [-1]\n",
    "\n",
    "print(arrayDuplicate([0,3,1,2]))\n",
    "print(arrayDuplicate([2,3,1,2,3]))"
   ]
  },
  {
   "cell_type": "code",
   "execution_count": 15,
   "metadata": {},
   "outputs": [
    {
     "data": {
      "text/plain": [
       "[(5, 11), (7, 13), (11, 17), (13, 19), (17, 23), (23, 29)]"
      ]
     },
     "execution_count": 15,
     "metadata": {},
     "output_type": "execute_result"
    }
   ],
   "source": [
    "# find all the pairs of prime number b/w m to n whose difference is k\n",
    "import math\n",
    "def isPrime(n):\n",
    "    for i in range(2,math.ceil(math.sqrt(n))):\n",
    "        if n % i == 0:\n",
    "            return False\n",
    "    return True\n",
    "\n",
    "def findPairs(m, n, k):\n",
    "    primes = []\n",
    "    for i in range(m,n+1):\n",
    "        if isPrime(i):\n",
    "            primes.append(i)\n",
    "    \n",
    "    res = []\n",
    "    for i in range(len(primes)):\n",
    "        for j in range(i+1, len(primes)):\n",
    "            if primes[j] - primes[i] == k:\n",
    "                res.append((primes[i], primes[j]))\n",
    "\n",
    "    return res\n",
    "\n",
    "findPairs(4,30,6)"
   ]
  },
  {
   "cell_type": "code",
   "execution_count": 32,
   "metadata": {},
   "outputs": [
    {
     "data": {
      "text/plain": [
       "549"
      ]
     },
     "execution_count": 32,
     "metadata": {},
     "output_type": "execute_result"
    }
   ],
   "source": [
    "# find the smallest number which is greater than b by interchanging the digits in a\n",
    "from itertools import permutations\n",
    "\n",
    "def smallestNum(a,b):\n",
    "    aPerm = permutations(str(a))\n",
    "    aPerm = [''.join(perm) for perm in aPerm]\n",
    "    aPerm.sort()\n",
    "    for i in aPerm:\n",
    "        ele = int(i)\n",
    "        if ele > b:\n",
    "            return ele\n",
    "    return -1\n",
    "\n",
    "smallestNum(459, 500)"
   ]
  },
  {
   "cell_type": "code",
   "execution_count": 36,
   "metadata": {},
   "outputs": [
    {
     "name": "stdout",
     "output_type": "stream",
     "text": [
      "5057\n",
      "847\n",
      "-1\n"
     ]
    }
   ],
   "source": [
    "# extract the largest number from the string which digit does'nt have 9 in it.\n",
    "def MaxNumber(s):\n",
    "    res = 0\n",
    "    for part in s.split():\n",
    "        if part.isdigit() and '9' not in part:\n",
    "            res = max(res, int(part))\n",
    "\n",
    "    return res if res != 0 else -1\n",
    "print(MaxNumber(\"This is alpha 5057 and 97\"))\n",
    "print(MaxNumber(\"Testcase without 9 847 ans 324 and 654 are\"))\n",
    "print(MaxNumber(\"abcdf 9\"))"
   ]
  },
  {
   "cell_type": "code",
   "execution_count": 2,
   "metadata": {},
   "outputs": [
    {
     "name": "stdout",
     "output_type": "stream",
     "text": [
      "[1, 4, 2, 6, 5]\n"
     ]
    }
   ],
   "source": [
    "# rearrange elements in a list in zigzag order (a < b > c < d > e)\n",
    "li = [1,6,2,5,4]\n",
    "li.sort()\n",
    "for i in range(1,len(li)-1,2):\n",
    "    li[i], li[i+1] = li[i+1], li[i]\n",
    "\n",
    "print(li)"
   ]
  }
 ],
 "metadata": {
  "kernelspec": {
   "display_name": "Python 3",
   "language": "python",
   "name": "python3"
  },
  "language_info": {
   "codemirror_mode": {
    "name": "ipython",
    "version": 3
   },
   "file_extension": ".py",
   "mimetype": "text/x-python",
   "name": "python",
   "nbconvert_exporter": "python",
   "pygments_lexer": "ipython3",
   "version": "3.12.6"
  },
  "orig_nbformat": 4
 },
 "nbformat": 4,
 "nbformat_minor": 2
}
