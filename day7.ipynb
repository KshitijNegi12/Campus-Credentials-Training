{
 "cells": [
  {
   "cell_type": "markdown",
   "metadata": {},
   "source": [
    "Class and Object"
   ]
  },
  {
   "cell_type": "markdown",
   "metadata": {},
   "source": [
    "Object is the name given to the instance"
   ]
  },
  {
   "cell_type": "code",
   "execution_count": 3,
   "metadata": {},
   "outputs": [
    {
     "name": "stdout",
     "output_type": "stream",
     "text": [
      "Name: Kshitij Negi\n",
      "Age: 22\n",
      "Percentage: 89.7\n"
     ]
    }
   ],
   "source": [
    "class Student:\n",
    "    # constructor\n",
    "    def __init__(self, name, age, percentage):\n",
    "        self.name = name\n",
    "        self.age = age\n",
    "        self.percentage =  percentage\n",
    "\n",
    "    def showInfo(self):\n",
    "        print(f\"Name: {self.name}\")\n",
    "        print(f\"Age: {self.age}\")\n",
    "        print(f\"Percentage: {self.percentage}\")\n",
    "\n",
    "\n",
    "obj = Student(input(\"Enter name: \"), int(input(\"Enter age:\")), float(input(\"Enter Percentage: \")))\n",
    "obj.showInfo()"
   ]
  },
  {
   "cell_type": "markdown",
   "metadata": {},
   "source": [
    "python not support constructor overloading,\n",
    "\n",
    "the last constructor created only take in account, others are ignored"
   ]
  },
  {
   "cell_type": "code",
   "execution_count": 80,
   "metadata": {},
   "outputs": [
    {
     "name": "stdout",
     "output_type": "stream",
     "text": [
      "Second Constructor\n"
     ]
    }
   ],
   "source": [
    "# constructor overloading not supported\n",
    "class A:\n",
    "    # second constructor will be invoked and first ignored\n",
    "    def __init__(self) -> None:\n",
    "        print(\"First Constructor\")\n",
    "\n",
    "    def __init__(self) -> None:\n",
    "        print(\"Second Constructor\")\n",
    "\n",
    "obj = A()"
   ]
  },
  {
   "cell_type": "code",
   "execution_count": 11,
   "metadata": {},
   "outputs": [
    {
     "name": "stdout",
     "output_type": "stream",
     "text": [
      "{'a': 10, 'b': 20, 'c': 30, 'd': 40, 'e': 50}\n",
      "{'a': 10, 'b': 20, 'c': 30, 'd': 40}\n",
      "{'b': 20, 'c': 30, 'd': 40}\n"
     ]
    }
   ],
   "source": [
    "# deleting varibales of class\n",
    "class MyClass:\n",
    "    def __init__(self) -> None:\n",
    "        self.a = 10\n",
    "        self.b = 20\n",
    "        self.c = 30\n",
    "        self.d = 40\n",
    "        self.e = 50\n",
    "\n",
    "    def rem(self):\n",
    "        del self.e\n",
    "\n",
    "obj = MyClass()\n",
    "print(obj.__dict__)\n",
    "obj.rem()\n",
    "print(obj.__dict__)\n",
    "del obj.a\n",
    "print(obj.__dict__)"
   ]
  },
  {
   "cell_type": "code",
   "execution_count": 33,
   "metadata": {},
   "outputs": [
    {
     "name": "stdout",
     "output_type": "stream",
     "text": [
      "10 140711646402608\n",
      "10 140711646402608\n",
      "10 140711646402608\n",
      "\n",
      "20 140711646402928\n",
      "20 140711646402928\n",
      "20 140711646402928\n",
      "\n",
      "2438585564032\n",
      "2438585590272\n",
      "2438585564032\n"
     ]
    }
   ],
   "source": [
    "# static variable and function\n",
    "# static varibles can be accessed by class as well as object\n",
    "class Static_:\n",
    "    # static varible => make varible without using self\n",
    "    # m/m alloc place called method area or class area\n",
    "    x = 10\n",
    "    @classmethod\n",
    "    def func(self):\n",
    "        print(\"Hello\")\n",
    "\n",
    "obj1 = Static_()\n",
    "obj2 = Static_()\n",
    "obj3 = Static_()\n",
    "\n",
    "print(obj1.x, id(obj1.x))\n",
    "print(obj2.x, id(obj2.x))\n",
    "print(obj3.x, id(obj3.x))\n",
    "print()\n",
    "\n",
    "Static_.x = 20\n",
    "\n",
    "print(obj1.x, id(obj1.x))\n",
    "print(obj2.x, id(obj2.x))\n",
    "print(obj3.x, id(obj3.x))\n",
    "print()\n",
    "\n",
    "# code is right but this jupyter notebook give wrong answer\n",
    "print(id(obj1.func))\n",
    "print(id(obj2.func))\n",
    "print(id(obj3.func))\n"
   ]
  },
  {
   "cell_type": "code",
   "execution_count": 23,
   "metadata": {},
   "outputs": [
    {
     "name": "stdout",
     "output_type": "stream",
     "text": [
      "a = 100\n",
      "a = 10, b = 20\n"
     ]
    }
   ],
   "source": [
    "#local varible \n",
    "class Test:\n",
    "    def func1(self):\n",
    "        a = 100\n",
    "        print(f'a = {a}')\n",
    "    \n",
    "    def func2(self):\n",
    "        a = 10\n",
    "        b = 20\n",
    "        print(f'a = {a}, b = {b}')\n",
    "\n",
    "obj = Test()\n",
    "obj.func1()\n",
    "obj.func2()"
   ]
  },
  {
   "cell_type": "code",
   "execution_count": 27,
   "metadata": {},
   "outputs": [
    {
     "name": "stdout",
     "output_type": "stream",
     "text": [
      "Kshitij 89.8\n",
      "Aman 88.1\n",
      "Tom 90.0\n"
     ]
    }
   ],
   "source": [
    "# setter, getter functions\n",
    "# to set values of instance variables and get values of instance varible\n",
    "class Student:\n",
    "    # setter\n",
    "    def setName(self, name):\n",
    "        self.name = name\n",
    "    # getter\n",
    "    def getName(self):\n",
    "        return self.name\n",
    "    \n",
    "    def setPercentage(self, per):\n",
    "        self.percentage = per\n",
    "    \n",
    "    def getPercentage(self):\n",
    "        return self.percentage\n",
    "    \n",
    "n = int(input(\"Enter number of students: \"))\n",
    "objs = [Student()]*n\n",
    "for i in range(n):\n",
    "    objs[i].setName(input(f\"Enter Student {i+1} Name: \"))\n",
    "    objs[i].setPercentage(float(input(f\"Enter Student {i+1} Percentage\")))\n",
    "\n",
    "    print(objs[i].getName(), objs[i].getPercentage())\n"
   ]
  },
  {
   "cell_type": "code",
   "execution_count": 64,
   "metadata": {},
   "outputs": [
    {
     "name": "stdout",
     "output_type": "stream",
     "text": [
      "2\n",
      "4\n"
     ]
    }
   ],
   "source": [
    "# class method\n",
    "class Method:\n",
    "    count = 0\n",
    "    def __init__(self):\n",
    "        Method.count += 1\n",
    "    # class decorator\n",
    "    @classmethod\n",
    "    # if we want to make class method i.e which has self to static, we use @classmethod decorator, without any argument it is default static\n",
    "    def show(self):\n",
    "        print(self.count)\n",
    "\n",
    "o1 = Method()\n",
    "o2 = Method()\n",
    "o1.show()\n",
    "o3 = Method()\n",
    "o4 = Method()\n",
    "Method.show()"
   ]
  },
  {
   "cell_type": "code",
   "execution_count": 37,
   "metadata": {},
   "outputs": [
    {
     "name": "stdout",
     "output_type": "stream",
     "text": [
      "Name: Kshitij  Salary: 2000\n",
      "Name: Kshitij  Salary: 2000\n"
     ]
    }
   ],
   "source": [
    "# Passing memebers of one class to another class\n",
    "class C1:\n",
    "    def __init__(self, name , sal):\n",
    "        self.name = name\n",
    "        self.sal = sal\n",
    "\n",
    "    def show(self):\n",
    "        print(f'Name: {self.name}  Salary: {self.sal}')\n",
    "\n",
    "class C2:\n",
    "    def test(c1Obj):\n",
    "        c1Obj.sal += 1000\n",
    "        c1Obj.show()\n",
    "\n",
    "obj = C1(\"Kshitij\", 1000)\n",
    "# Shallow Copy\n",
    "C2.test(obj)\n",
    "obj.show()"
   ]
  },
  {
   "cell_type": "code",
   "execution_count": 59,
   "metadata": {},
   "outputs": [
    {
     "name": "stdout",
     "output_type": "stream",
     "text": [
      "Gehu Constructor\n",
      "CSE Constructor\n",
      "TechFest\n",
      "\n",
      "\n",
      "Gehu Constructor\n",
      "CSE Constructor\n",
      "TechFest\n",
      "\n",
      "\n",
      "Gehu Constructor\n",
      "CSE Constructor\n",
      "TechFest\n"
     ]
    }
   ],
   "source": [
    "# Inner Class\n",
    "class GEHU:\n",
    "    def __init__(self):\n",
    "        self.a =10\n",
    "        print(\"Gehu Constructor\")\n",
    "    class CSE:\n",
    "        def __init__(self):\n",
    "            self.b=11\n",
    "            print(\"CSE Constructor\")\n",
    "        \n",
    "        def fest(self):\n",
    "            print(\"TechFest\")\n",
    "\n",
    "obj1 = GEHU() \n",
    "obj1 = obj1.CSE()\n",
    "obj1.fest()\n",
    "print(\"\\n\")\n",
    "\n",
    "obj2 = GEHU().CSE()\n",
    "obj2.fest()\n",
    "print(\"\\n\")\n",
    "\n",
    "# annonyms object\n",
    "GEHU().CSE().fest()\n"
   ]
  },
  {
   "cell_type": "code",
   "execution_count": 66,
   "metadata": {},
   "outputs": [
    {
     "name": "stdout",
     "output_type": "stream",
     "text": [
      "Name:  Kshitij\n",
      "DOB: 23/7/2002\n",
      "DOB: 23/7/2002\n"
     ]
    }
   ],
   "source": [
    "# \n",
    "class Person:\n",
    "    def __init__(self, name, dd, mm, yy):\n",
    "        self.name = name\n",
    "        # created inner class objecr and calling it's constructor\n",
    "        self.dob = self.DOB(dd,mm,yy)\n",
    "    \n",
    "    def show(self):\n",
    "        print(\"Name: \", self.name)\n",
    "        self.dob.show()\n",
    "\n",
    "    class DOB:\n",
    "        def __init__(self, dd,mm,yy):\n",
    "            self.dd = dd\n",
    "            self.mm = mm\n",
    "            self.yy = yy\n",
    "        def show(self):\n",
    "            print(f'DOB: {self.dd}/{self.mm}/{self.yy}')\n",
    "\n",
    "obj = Person(\"Kshitij\", 23,7, 2002)\n",
    "obj.show()\n",
    "obj.dob.show()"
   ]
  },
  {
   "cell_type": "code",
   "execution_count": 67,
   "metadata": {},
   "outputs": [
    {
     "name": "stdout",
     "output_type": "stream",
     "text": [
      "Constructor Called\n",
      "Destructor Called\n"
     ]
    }
   ],
   "source": [
    "# destructor\n",
    "class Time:\n",
    "    def __init__(self):\n",
    "        print(\"Constructor Called\")\n",
    "    \n",
    "    def __del__(self):\n",
    "        print(\"Destructor Called\")\n",
    "\n",
    "obj = Time()\n",
    "obj = None"
   ]
  },
  {
   "cell_type": "code",
   "execution_count": 79,
   "metadata": {},
   "outputs": [
    {
     "name": "stdout",
     "output_type": "stream",
     "text": [
      "Constructor Called\n",
      "Constructor Called\n",
      "Destructor Called\n",
      "Destructor Called\n"
     ]
    }
   ],
   "source": [
    "class Time:\n",
    "    def __init__(self):\n",
    "        print(\"Constructor Called\")\n",
    "    \n",
    "    def __del__(self):\n",
    "        print(\"Destructor Called\")\n",
    "\n",
    "obj = Time()\n",
    "obj2 = Time()\n",
    "obj = obj2\n",
    "del obj"
   ]
  },
  {
   "cell_type": "code",
   "execution_count": 85,
   "metadata": {},
   "outputs": [
    {
     "name": "stdout",
     "output_type": "stream",
     "text": [
      "Constructor with  None None None\n",
      "Constructor with  1 None None\n",
      "Constructor with  1 2 None\n",
      "Constructor with  1 2 3\n"
     ]
    }
   ],
   "source": [
    "# how to use constructor overloading then,\n",
    "# using default arguments\n",
    "\n",
    "class Default:\n",
    "    def __init__(self, a=None, b=None, c=None) -> None:\n",
    "        print(\"Constructor with \",a,b,c)\n",
    "\n",
    "obj = Default()\n",
    "obj = Default(1)\n",
    "obj = Default(1,2)\n",
    "obj = Default(1,2,3)"
   ]
  },
  {
   "cell_type": "code",
   "execution_count": 87,
   "metadata": {},
   "outputs": [
    {
     "name": "stdout",
     "output_type": "stream",
     "text": [
      "1 2 3 4 5 9 "
     ]
    }
   ],
   "source": [
    "# variable length\n",
    "def fun(*n):\n",
    "    for i in n:\n",
    "        print(i, end= \" \")\n",
    "\n",
    "fun(1,2,3,4,5,9)"
   ]
  },
  {
   "cell_type": "code",
   "execution_count": 92,
   "metadata": {},
   "outputs": [],
   "source": [
    "# inheritence\n",
    "# 1. Single Level\n",
    "# one parent and child\n",
    "class A:\n",
    "    def __init__(self):\n",
    "        print(\"A\")\n",
    "\n",
    "# class B inherit class A\n",
    "class B(A):\n",
    "    def __init__(self):\n",
    "        print(\"B\")\n"
   ]
  },
  {
   "cell_type": "code",
   "execution_count": null,
   "metadata": {},
   "outputs": [],
   "source": [
    "# inheritence\n",
    "# 2. Multi Level\n",
    "# parent to child to child\n",
    "class A:\n",
    "    def __init__(self):\n",
    "        print(\"A\")\n",
    "\n",
    "# class B inherit class A\n",
    "class B(A):\n",
    "    def __init__(self):\n",
    "        print(\"B\")\n",
    "\n",
    "# class C inherit class B\n",
    "class C(B):\n",
    "    def __init__(self):\n",
    "        print(\"C\")"
   ]
  },
  {
   "cell_type": "code",
   "execution_count": null,
   "metadata": {},
   "outputs": [],
   "source": [
    "# inheritence\n",
    "# 3. Multiple \n",
    "# 1 childs with multiple parent\n",
    "class A:\n",
    "    def __init__(self):\n",
    "        print(\"A\")\n",
    "\n",
    "# class B inherit class A\n",
    "class B(A):\n",
    "    def __init__(self):\n",
    "        print(\"B\")\n",
    "\n",
    "# class C inherit class A\n",
    "class C(A):\n",
    "    def __init__(self):\n",
    "        print(\"C\")"
   ]
  },
  {
   "cell_type": "code",
   "execution_count": null,
   "metadata": {},
   "outputs": [],
   "source": [
    "# inheritence\n",
    "# 4. Hierarchical\n",
    "# 1 parent multiple child\n",
    "class A:\n",
    "    def __init__(self):\n",
    "        print(\"A\")\n",
    "\n",
    "# class B inherit class A\n",
    "class B(A):\n",
    "    def __init__(self):\n",
    "        print(\"B\")\n",
    "\n",
    "# class C inherit class B\n",
    "class C(B):\n",
    "    def __init__(self):\n",
    "        print(\"C\")"
   ]
  },
  {
   "cell_type": "code",
   "execution_count": null,
   "metadata": {},
   "outputs": [],
   "source": [
    "# inheritence\n",
    "# 5. Hybrid \n",
    "# at least 1 multiple with any other inheritence \n",
    "class A:\n",
    "    def __init__(self):\n",
    "        print(\"A\")\n",
    "\n",
    "# class B inherit class A\n",
    "class B(A):\n",
    "    def __init__(self):\n",
    "        print(\"B\")\n",
    "\n",
    "# class C inherit class A\n",
    "class C(A):\n",
    "    def __init__(self):\n",
    "        print(\"C\")\n",
    "\n",
    "# class D inherit class B and C\n",
    "# the first class writtern inside () in inheritence will be given more priority\n",
    "class D(B,C):\n",
    "    def __init__(self):\n",
    "        print(\"D\")"
   ]
  },
  {
   "cell_type": "markdown",
   "metadata": {},
   "source": [
    "Polymorphism"
   ]
  },
  {
   "cell_type": "markdown",
   "metadata": {},
   "source": [
    "Assigning additional task to the method is called method overloading"
   ]
  },
  {
   "cell_type": "code",
   "execution_count": 2,
   "metadata": {},
   "outputs": [
    {
     "name": "stdout",
     "output_type": "stream",
     "text": [
      "\n",
      "Values:  \n",
      "Values:  1 \n",
      "Values:  1 2 \n",
      "Values:  1 2 3 "
     ]
    }
   ],
   "source": [
    "# Method overloading\n",
    "# not work in python but to make it work we use default args or varibale argument (*)\n",
    "\n",
    "class Over:\n",
    "    def fun(self, *args):\n",
    "        print(\"\\nValues: \", end=\" \")\n",
    "        for i in args:\n",
    "            print(i, end=\" \")\n",
    "\n",
    "obj = Over()\n",
    "obj.fun()\n",
    "obj.fun(1)\n",
    "obj.fun(1,2)\n",
    "obj.fun(1,2,3)"
   ]
  },
  {
   "cell_type": "code",
   "execution_count": 3,
   "metadata": {},
   "outputs": [
    {
     "name": "stdout",
     "output_type": "stream",
     "text": [
      "HB\n"
     ]
    }
   ],
   "source": [
    "# function overriding\n",
    "# when child class not satisfied with parent class function, so it will redefine the function\n",
    "class Parent:\n",
    "    def __init__(self):\n",
    "        self.a = 10\n",
    "        print(\"Parent\")\n",
    "    \n",
    "    def bike(self):\n",
    "        print(\"Hero\")\n",
    "\n",
    "class Child(Parent):\n",
    "    def __init__(self):\n",
    "        self.a = 20 # not override but rather is at local scope of this class\n",
    "\n",
    "    def bike(self):\n",
    "        print(\"HB\")\n",
    "\n",
    "obj = Child()\n",
    "obj.bike()"
   ]
  },
  {
   "cell_type": "code",
   "execution_count": 6,
   "metadata": {},
   "outputs": [
    {
     "name": "stdout",
     "output_type": "stream",
     "text": [
      "2\n",
      "2\n",
      "2.5\n",
      "2.5\n"
     ]
    }
   ],
   "source": [
    "# create your own abs()\n",
    "class meth:\n",
    "    def myabs(self,num):\n",
    "        if num < 0:\n",
    "            num = -num\n",
    "        return num\n",
    "\n",
    "obj = meth()\n",
    "print(obj.myabs(2))\n",
    "print(obj.myabs(-2))\n",
    "print(obj.myabs(2.5))\n",
    "print(obj.myabs(-2.5))"
   ]
  },
  {
   "cell_type": "code",
   "execution_count": 15,
   "metadata": {},
   "outputs": [
    {
     "name": "stdout",
     "output_type": "stream",
     "text": [
      "10 20 30\n",
      "10 20\n",
      "10 20 30\n"
     ]
    }
   ],
   "source": [
    "# access modifier\n",
    "# public   (no underscore)  a - 10\n",
    "# By default, all class members (attributes and methods) in Python are public. They can be accessed from anywhere.\n",
    "\n",
    "# protected (1 underscore)  _a = 10\n",
    "# This indicates that it is intended for internal use within the class or its subclasses.\n",
    "# Although it can still be accessed outside the class, it is a convention that it should not be\n",
    "\n",
    "# private   (2 underscore)  __a = 10\n",
    "# A member is considered \"private\" if its name starts with a double underscore (__). This performs name mangling, which means the attribute is not easily accessible from outside the class.\n",
    "# It prevents accidental access and modification but can still be accessed through name mangling.\n",
    "\n",
    "class A:\n",
    "    def __init__(self):\n",
    "        self.a = 10\n",
    "        self._b = 20\n",
    "        self.__c = 30\n",
    "    def show(self):\n",
    "        print(self.a, end=\" \")\n",
    "        print(self._b, end=\" \")\n",
    "        print(self.__c)\n",
    "\n",
    "class B(A):\n",
    "    def show(self):\n",
    "        print(self.a, end=\" \")\n",
    "        print(self._b)\n",
    "        # print(self.__c)     # cant access private variable\n",
    "\n",
    "class C(B):\n",
    "    def show(self):\n",
    "        print(self.a, end=\" \")\n",
    "        print(self._b, end=\" \")\n",
    "        # print(self.__c)   # cant access private variable\n",
    "        # but we can access the private variable of A class using Name Mangling concept replace __var with _classname__var\n",
    "        print(self._A__c)\n",
    "\n",
    "obj1 = A()\n",
    "obj1.show()\n",
    "\n",
    "obj2 = B()\n",
    "obj2.show()\n",
    "\n",
    "obj3 = C()\n",
    "obj3.show()"
   ]
  },
  {
   "cell_type": "code",
   "execution_count": 21,
   "metadata": {},
   "outputs": [
    {
     "name": "stdout",
     "output_type": "stream",
     "text": [
      "I am private\n",
      "This is a private method.\n"
     ]
    }
   ],
   "source": [
    "# Purpose: Name mangling is mainly intended to avoid accidental name clashes in subclasses, not to provide real security. \n",
    "# It provides a way to indicate that a member is intended to be private to the class.\n",
    "\n",
    "# Access: Although you can still access a \"private\" variable or method using the mangled name (e.g., _MyClass__private_var)\n",
    "# this is considered bad practice and breaks the encapsulation principle.\n",
    "\n",
    "# Use Case: Name mangling is particularly useful in large codebases and when developing libraries, where you might want to ensure that certain internal methods or attributes are not accidentally overridden or accessed by subclasses or users of the library.\n",
    "\n",
    "class MyClass:\n",
    "    def __init__(self):\n",
    "        self.__private_var = \"I am private\"\n",
    "        \n",
    "    def __private_method(self):\n",
    "        return \"This is a private method.\"\n",
    "\n",
    "    def access_private_method(self):\n",
    "        return self.__private_method()\n",
    "\n",
    "# Create an instance of MyClass\n",
    "obj = MyClass()\n",
    "\n",
    "# Attempt to access the private variable and method directly\n",
    "# This will raise an AttributeError\n",
    "# print(obj.__private_var)  \n",
    "# print(obj.__private_method())  \n",
    "\n",
    "# Accessing using name mangling\n",
    "print(obj._MyClass__private_var)        # Output: I am private\n",
    "print(obj._MyClass__private_method())   # Output: This is a private method.\n"
   ]
  },
  {
   "cell_type": "code",
   "execution_count": 20,
   "metadata": {},
   "outputs": [
    {
     "name": "stdout",
     "output_type": "stream",
     "text": [
      "Select Choice: \n",
      "1 -> inputData\n",
      "2 -> display\n",
      "3 -> deposit\n",
      "4 -> withdraw\n",
      "5 -> exit\n",
      "Name: Kshitij Negi\n",
      "Age: 22\n",
      "Balance: 20000.0\n",
      "Name: Kshitij Negi\n",
      "Age: 22\n",
      "Balance: 20100.0\n",
      "Name: Kshitij Negi\n",
      "Age: 22\n",
      "Balance: 21100.0\n"
     ]
    }
   ],
   "source": [
    "# menu driven\n",
    "class BankAccount:\n",
    "    def inputData(self, name, age, balance):\n",
    "        self.name = name\n",
    "        self.age = age\n",
    "        self.bal = balance\n",
    "\n",
    "    def display(self):\n",
    "        print(f\"Name: {self.name}\")\n",
    "        print(f\"Age: {self.age}\")\n",
    "        print(f\"Balance: {self.bal}\")\n",
    "    \n",
    "    def deposit(self, amount):\n",
    "        self.bal += amount\n",
    "\n",
    "    def withdraw(self, amount):\n",
    "        self.bal -= amount\n",
    "\n",
    "class SavingAccount(BankAccount):\n",
    "    def withdraw(self, amount):\n",
    "        if self.bal < 1000:\n",
    "            print(\"Transcation Fails\")\n",
    "        else:\n",
    "            self.bal -= amount\n",
    "\n",
    "\n",
    "print(\"Select Choice: \")\n",
    "print(\"1 -> inputData\")\n",
    "print(\"2 -> display\")\n",
    "print(\"3 -> deposit\")\n",
    "print(\"4 -> withdraw\")\n",
    "print(\"5 -> exit\")\n",
    "\n",
    "obj = SavingAccount()\n",
    "while True:\n",
    "    ch = int(input(\"Enter choice: \"))\n",
    "    if ch == 1:\n",
    "        obj.inputData(input(\"Enter Name:\"), int(input(\"Enter Age: \")), float(input(\"Enter Balance: \")))\n",
    "    elif ch == 2:\n",
    "        obj.display()\n",
    "    elif ch == 3:\n",
    "        obj.deposit(float(input(\"Enter amount: \")))\n",
    "    elif ch == 4:\n",
    "        obj.withdraw(float(input(\"Enter amount\")))\n",
    "    elif ch == 5:\n",
    "        break\n"
   ]
  },
  {
   "cell_type": "markdown",
   "metadata": {},
   "source": [
    "**Abstraction**"
   ]
  },
  {
   "cell_type": "code",
   "execution_count": 5,
   "metadata": {},
   "outputs": [
    {
     "name": "stdout",
     "output_type": "stream",
     "text": [
      "Function 1\n",
      "Function 2\n"
     ]
    }
   ],
   "source": [
    "# abstraction class - class contain at least 1 abstract method\n",
    "from abc import ABC, abstractmethod\n",
    "# from abc import *\n",
    "class A(ABC):\n",
    "    @abstractmethod\n",
    "    def fun1(self):\n",
    "        pass\n",
    "    \n",
    "    @abstractmethod\n",
    "    def fun2(self):\n",
    "        pass\n",
    "\n",
    "class B(A):\n",
    "    def fun1(self):\n",
    "        print(\"Function 1\")\n",
    "\n",
    "    def fun2(self):\n",
    "        print(\"Function 2\")\n",
    "\n",
    "obj = B()\n",
    "obj.fun1()\n",
    "obj.fun2()"
   ]
  },
  {
   "cell_type": "code",
   "execution_count": 15,
   "metadata": {},
   "outputs": [
    {
     "name": "stdout",
     "output_type": "stream",
     "text": [
      "Constructor Created\n",
      "Abstract Function\n",
      "Hello\n"
     ]
    }
   ],
   "source": [
    "# if the child class is unable to provide implementation of all methods of abstract class then we can decalre the child class method with \n",
    "# child class methods with @abstractmethod and complete the remaining \n",
    "from abc import *\n",
    "class A(ABC):\n",
    "    def __init__(self):\n",
    "        print(\"Constructor Created\")\n",
    "    @abstractmethod\n",
    "    def fun(self):\n",
    "        pass\n",
    "\n",
    "class B(A):\n",
    "    @abstractmethod\n",
    "    def fun(self):\n",
    "        pass\n",
    "\n",
    "    def greet(self):\n",
    "        print(\"Hello\")\n",
    "\n",
    "class C(B):\n",
    "    def fun(self):\n",
    "        print(\"Abstract Function\")\n",
    "\n",
    "obj = C()\n",
    "obj.fun()\n",
    "obj.greet()"
   ]
  },
  {
   "cell_type": "code",
   "execution_count": 26,
   "metadata": {},
   "outputs": [
    {
     "name": "stdout",
     "output_type": "stream",
     "text": [
      "Select Choice: \n",
      "1-> Saving Account\n",
      "2-> Current Account\n"
     ]
    },
    {
     "name": "stdout",
     "output_type": "stream",
     "text": [
      "\n",
      "Select Choice: \n",
      "1 -> display\n",
      "2 -> deposit\n",
      "3 -> withdraw\n",
      "4 -> Get Interest\n",
      "5 -> exit\n",
      "Name: Kshitij\n",
      "Age: 22\n",
      "Balance: 100.0\n",
      "Name: Kshitij\n",
      "Age: 22\n",
      "Balance: 104.0\n",
      "Name: Kshitij\n",
      "Age: 22\n",
      "Balance: 108.16\n"
     ]
    }
   ],
   "source": [
    "# menu driven using abstraction\n",
    "from abc import *\n",
    "class BankAccount(ABC):\n",
    "    def inputData(self, name, age, balance):\n",
    "        self.name = name\n",
    "        self.age = age\n",
    "        self.bal = balance\n",
    "\n",
    "    def display(self):\n",
    "        print(f\"Name: {self.name}\")\n",
    "        print(f\"Age: {self.age}\")\n",
    "        print(f\"Balance: {self.bal}\")\n",
    "    \n",
    "    @abstractmethod\n",
    "    def deposit(self, amount):\n",
    "        pass\n",
    "\n",
    "    @abstractmethod\n",
    "    def withdraw(self, amount):\n",
    "        pass\n",
    "\n",
    "    @abstractmethod\n",
    "    def callInterest(self):\n",
    "        pass\n",
    "\n",
    "\n",
    "class Interest1(BankAccount):\n",
    "    @abstractmethod\n",
    "    def deposit(self, amount):\n",
    "        pass\n",
    "\n",
    "    @abstractmethod\n",
    "    def withdraw(self, amount):\n",
    "        pass\n",
    "\n",
    "    def callInterest(self):\n",
    "        self.bal += self.bal*0.04 \n",
    "\n",
    "\n",
    "class SavingAccount(Interest1):\n",
    "    def withdraw(self, amount):\n",
    "        if self.bal < amount:\n",
    "            print(\"Balance Low\")\n",
    "        elif amount > 2000:\n",
    "            print(\"Maximum Withdraw limit is 2000\")\n",
    "        elif self.bal - amount <= 1000:\n",
    "            print(\"Minimum Balance of 1000rs should be in bank\")\n",
    "        else:\n",
    "            self.bal -= amount\n",
    "    \n",
    "    def deposit(self, amount):\n",
    "        self.bal += amount\n",
    "\n",
    "\n",
    "class Interest2(BankAccount):\n",
    "    @abstractmethod\n",
    "    def deposit(self, amount):\n",
    "        pass\n",
    "\n",
    "    @abstractmethod\n",
    "    def withdraw(self, amount):\n",
    "        pass\n",
    "\n",
    "    def callInterest(self):\n",
    "        self.bal += self.bal*0.02\n",
    "\n",
    "\n",
    "class CurrentAccount(Interest2):\n",
    "    def withdraw(self, amount):\n",
    "        if self.bal < amount or self.bal < 1000:\n",
    "            print(\"Transcation Fails\")\n",
    "        else:\n",
    "            self.bal -= amount\n",
    "    \n",
    "    def deposit(self, amount):\n",
    "        self.bal += amount\n",
    "\n",
    "\n",
    "\n",
    "print(\"Select Choice: \")\n",
    "print(\"1-> Saving Account\")\n",
    "print(\"2-> Current Account\")\n",
    "\n",
    "obj = None\n",
    "\n",
    "while True:\n",
    "    ch = int(input(\"Enter your Choice: \"))\n",
    "    if ch == 1:\n",
    "        obj = SavingAccount()\n",
    "        break\n",
    "    elif ch == 2:\n",
    "        obj = CurrentAccount()\n",
    "        break\n",
    "    else:\n",
    "        print(\"Invalid Input\")\n",
    "\n",
    "\n",
    "obj.inputData(input(\"Enter Name:\"), int(input(\"Enter Age: \")), float(input(\"Enter Balance: \")))\n",
    "\n",
    "print(\"\\nSelect Choice: \")\n",
    "print(\"1 -> display\")\n",
    "print(\"2 -> deposit\")\n",
    "print(\"3 -> withdraw\")\n",
    "print(\"4 -> Get Interest\")\n",
    "print(\"5 -> exit\")\n",
    "\n",
    "\n",
    "while True:\n",
    "    ch = int(input(\"Enter choice: \"))\n",
    "    if ch == 1:\n",
    "        obj.display()\n",
    "    elif ch == 2:\n",
    "        obj.deposit(float(input(\"Enter amount: \")))\n",
    "    elif ch == 3:\n",
    "        obj.withdraw(float(input(\"Enter amount\")))\n",
    "    elif ch == 4:\n",
    "        obj.callInterest()\n",
    "    elif ch == 5:\n",
    "        break\n"
   ]
  },
  {
   "cell_type": "code",
   "execution_count": null,
   "metadata": {},
   "outputs": [],
   "source": []
  }
 ],
 "metadata": {
  "kernelspec": {
   "display_name": "Python 3",
   "language": "python",
   "name": "python3"
  },
  "language_info": {
   "codemirror_mode": {
    "name": "ipython",
    "version": 3
   },
   "file_extension": ".py",
   "mimetype": "text/x-python",
   "name": "python",
   "nbconvert_exporter": "python",
   "pygments_lexer": "ipython3",
   "version": "3.8.10"
  },
  "orig_nbformat": 4
 },
 "nbformat": 4,
 "nbformat_minor": 2
}
