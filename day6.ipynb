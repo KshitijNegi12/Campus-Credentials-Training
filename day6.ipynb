{
 "cells": [
  {
   "cell_type": "code",
   "execution_count": 1,
   "metadata": {},
   "outputs": [
    {
     "name": "stdout",
     "output_type": "stream",
     "text": [
      "19\n",
      "19 is a Lucky Number\n"
     ]
    }
   ],
   "source": [
    "# 1. Lucky Number\n",
    "# Take the set of integers \n",
    "# 1,2,3,4,5,6,7,8,9,10,11,12,13,14,15,16,17,18,19,……\n",
    "# First, delete every second number, we get following reduced set. \n",
    "# 1,3,5,7,9,11,13,15,17,19,…………\n",
    "# Now, delete every third number, we get \n",
    "# 1, 3, 7, 9, 13, 15, 19,….….\n",
    "# Continue this process indefinitely…… \n",
    "# Any number that does NOT get deleted due to above process is called “lucky”.\n",
    "# Therefore, set of lucky numbers is 1, 3, 7, 13,………\n",
    "def solve(n, position):\n",
    "    if n < position: return True\n",
    "    if n%position == 0: return False\n",
    "    return solve(n-n//position, position+1 )\n",
    "\n",
    "n = int(input(\"Enter thr number: \"))\n",
    "print(n)\n",
    "if solve(n,2):\n",
    "    print(f\"{n} is a Lucky Number\")\n",
    "else:\n",
    "    print(f\"{n} is not a Lucky Number\")\n"
   ]
  },
  {
   "cell_type": "code",
   "execution_count": 27,
   "metadata": {},
   "outputs": [
    {
     "name": "stdout",
     "output_type": "stream",
     "text": [
      "[1, 5, 6, 3, 4]\n"
     ]
    }
   ],
   "source": [
    "# 2. Remove all occurence of an element in a list (without shorcut)\n",
    "li = [1,2,2,3,4,5,6,2]\n",
    "ele = 2\n",
    "len = 0\n",
    "for i in li:\n",
    "    len+=1\n",
    "\n",
    "i = len-1\n",
    "j = len-1\n",
    "count_ele = 0\n",
    "while i >= 0:\n",
    "    if li[i] == ele:\n",
    "        li[i], li[j] = li[j], li[i]\n",
    "        j -= 1\n",
    "        count_ele += 1\n",
    "    i -= 1\n",
    "\n",
    "while count_ele:\n",
    "    li.pop()\n",
    "    count_ele -= 1\n",
    "\n",
    "print(li)"
   ]
  },
  {
   "cell_type": "code",
   "execution_count": 29,
   "metadata": {},
   "outputs": [
    {
     "name": "stdout",
     "output_type": "stream",
     "text": [
      "3\n"
     ]
    }
   ],
   "source": [
    "# 3. Find 1st non repeating element in a list\n",
    "li = [1,2,3,2,1,4,5]\n",
    "len = 0\n",
    "res = -1\n",
    "for i in li: len+=1\n",
    "for i in range(len):\n",
    "    if i == -1: continue\n",
    "    curr = li[i]\n",
    "    is_alone = True\n",
    "    for j in range(i+1, len):\n",
    "        if li[j] == curr:\n",
    "            li[j] = -1\n",
    "            is_alone = False\n",
    "    if is_alone == True:\n",
    "        res = li[i]\n",
    "        break\n",
    "\n",
    "print(res)"
   ]
  },
  {
   "cell_type": "code",
   "execution_count": 1,
   "metadata": {},
   "outputs": [
    {
     "name": "stdout",
     "output_type": "stream",
     "text": [
      "[[1, 2, 3], [4, 5, 6], [7, 8]]\n"
     ]
    }
   ],
   "source": [
    "# 4. Break list in chunks\n",
    "li = [1,2,3,4,5,6,7,8]\n",
    "chunk_size = 3\n",
    "res = []\n",
    "i = 0\n",
    "length = len(li)\n",
    "while i < length:\n",
    "    res.append(li[i:i+3])\n",
    "    i += 3\n",
    "\n",
    "print(res)"
   ]
  },
  {
   "cell_type": "code",
   "execution_count": 4,
   "metadata": {},
   "outputs": [
    {
     "name": "stdout",
     "output_type": "stream",
     "text": [
      "III\n",
      "LVIII\n",
      "MCMXCIV\n"
     ]
    }
   ],
   "source": [
    "# Roman numerals are represented by seven different symbols:\n",
    "# I, V, X, L, C, D, and M.\n",
    "\n",
    "# Symbol       Value\n",
    "# I             1\n",
    "# V             5\n",
    "# X             10\n",
    "# L             50\n",
    "# C             100\n",
    "# D             500\n",
    "# M             1000\n",
    "\n",
    "# Example 1:\n",
    "\n",
    "# Input: num = 3\n",
    "# Output: \"III\"\n",
    "# Explanation: 3 is represented as 3 ones.\n",
    "\n",
    "# Example 2:\n",
    "\n",
    "# Input: num = 58\n",
    "# Output: \"LVIII\"\n",
    "# Explanation: L = 50, V = 5, III = 3.\n",
    "\n",
    "# Example 3:\n",
    "\n",
    "# Input: num = 1994\n",
    "# Output: \"MCMXCIV\"\n",
    "# Explanation: M = 1000, CM = 900, XC = 90 and IV = 4.\n",
    "\n",
    "# Constraints:\n",
    "# 1 <= num <= 3999\n",
    "\n",
    "dict ={\n",
    "    1:'I',\n",
    "    5:'V',\n",
    "    10:'X',\n",
    "    50:'L',\n",
    "    100:'C',\n",
    "    500:'D',\n",
    "    1000:'M',\n",
    "}\n",
    "\n",
    "# val = int(input(\"Enter Number:\"))\n",
    "def roman(val):\n",
    "    res = \"\"\n",
    "    curr = 0\n",
    "    count = 1\n",
    "    while val > 0:\n",
    "        curr = val%10\n",
    "        if dict.get(curr*count,0):\n",
    "            res = dict.get(curr*count) + res\n",
    "        else:\n",
    "            if curr == 4 or curr == 9:\n",
    "                res = dict.get(count) + dict.get((curr+1)*count) + res\n",
    "            elif curr >= 1 and curr < 4:\n",
    "                res = dict.get(count)*curr + res\n",
    "            elif curr > 5:\n",
    "                res = dict.get(5*count) + dict.get(count)*(curr-5) + res\n",
    "                \n",
    "        count *= 10\n",
    "        val //= 10\n",
    "    return res\n",
    "\n",
    "print(roman(3))\n",
    "print(roman(58))\n",
    "print(roman(1994))\n"
   ]
  }
 ],
 "metadata": {
  "kernelspec": {
   "display_name": "Python 3",
   "language": "python",
   "name": "python3"
  },
  "language_info": {
   "codemirror_mode": {
    "name": "ipython",
    "version": 3
   },
   "file_extension": ".py",
   "mimetype": "text/x-python",
   "name": "python",
   "nbconvert_exporter": "python",
   "pygments_lexer": "ipython3",
   "version": "3.8.10"
  },
  "orig_nbformat": 4
 },
 "nbformat": 4,
 "nbformat_minor": 2
}
