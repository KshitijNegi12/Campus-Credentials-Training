{
 "cells": [
  {
   "cell_type": "code",
   "execution_count": 2,
   "metadata": {},
   "outputs": [],
   "source": [
    "#link list\n",
    "class GetNode:\n",
    "    def __init__(self):\n",
    "        self.data = None\n",
    "        self.next = None\n",
    "\n",
    "class LinkList:\n",
    "        def __init__(self):\n",
    "            self.head = None\n",
    "            self.tail = None\n",
    "        \n",
    "        def insertAtBegin(self, data):\n",
    "            newNode = GetNode()\n",
    "            newNode.data = data\n",
    "            if self.head == None:\n",
    "                self.head = newNode\n",
    "                self.tail = newNode\n",
    "            else:\n",
    "                newNode.next = self.head\n",
    "                self.head = newNode\n",
    "\n",
    "        def insertAtEnd(self, data):\n",
    "            newNode = GetNode()\n",
    "            newNode.data = data\n",
    "            if self.head == None:\n",
    "                self.head = newNode\n",
    "                self.tail = newNode\n",
    "            else:\n",
    "                self.tail.next = newNode\n",
    "                self.tail = newNode\n",
    "\n",
    "        def insertAtSpecific(self, pos, data):\n",
    "            list_len = self.length()\n",
    "            if pos < 1 or pos > list_len + 1:\n",
    "                print(\"Invalid position\")\n",
    "                return\n",
    "            if pos == 1:\n",
    "                self.insertAtBegin(data)\n",
    "            elif pos == list_len + 1:\n",
    "                self.insertAtEnd(data)\n",
    "            else:\n",
    "                newNode = GetNode()\n",
    "                newNode.data = data\n",
    "                node = self.head\n",
    "                count = 1\n",
    "                while count < pos - 1:\n",
    "                    count += 1\n",
    "                    node = node.next\n",
    "                newNode.next = node.next\n",
    "                node.next = newNode          \n",
    "\n",
    "        def deleteAtBegin(self):\n",
    "            if self.head == None:\n",
    "                print(\"LinkedList is Empty\")\n",
    "                return\n",
    "            if self.length() == 1:\n",
    "                node = self.head\n",
    "                self.head = self.tail = None\n",
    "            else:\n",
    "                node = self.head\n",
    "                self.head = self.head.next\n",
    "                node.next = None\n",
    "            data = node.data\n",
    "            del node\n",
    "            return data\n",
    "\n",
    "        def deleteAtEnd(self):\n",
    "            if self.tail == None:\n",
    "                print(\"LinkedList is Empty\")\n",
    "                return\n",
    "            if self.length() == 1:\n",
    "                node = self.head\n",
    "                self.head = self.tail = None\n",
    "            else:\n",
    "                node = self.tail\n",
    "                ptr = self.head\n",
    "                while ptr.next is not node:\n",
    "                    ptr = ptr.next\n",
    "                ptr.next = None\n",
    "                self.tail = ptr\n",
    "            data = node.data\n",
    "            del node\n",
    "            return data\n",
    "        \n",
    "        def deleteAtSpecific(self, pos):\n",
    "            if self.head == None:\n",
    "                print(\"LinkedList is Empty\")\n",
    "                return\n",
    "            list_len = self.length()\n",
    "            if (pos < 1) or (pos > list_len):\n",
    "                print(\"Invalid Position\")\n",
    "            elif pos == 1:\n",
    "                self.deleteAtBegin()\n",
    "            elif pos == list_len:\n",
    "                self.deleteAtEnd()\n",
    "            else:\n",
    "                node = self.head\n",
    "                prev = None\n",
    "                count = 1\n",
    "                while count < pos:\n",
    "                    prev = node\n",
    "                    node = node.next\n",
    "                    count += 1\n",
    "                prev.next = node.next\n",
    "                node.next = None\n",
    "                data = node.data\n",
    "                del node\n",
    "                return data\n",
    "\n",
    "        def traverse(self):\n",
    "            if self.head == None:\n",
    "                print(\"Linked List is Empty\")\n",
    "                return\n",
    "            ptr = self.head  \n",
    "            while ptr is not None:\n",
    "                print(ptr.data, end=\" \")\n",
    "                ptr = ptr.next\n",
    "            print()\n",
    "        \n",
    "        def length(self):\n",
    "            list_len = 0\n",
    "            ptr = self.head  \n",
    "            while ptr is not None:\n",
    "                list_len += 1\n",
    "                ptr = ptr.next\n",
    "            return list_len"
   ]
  },
  {
   "cell_type": "code",
   "execution_count": 2,
   "metadata": {},
   "outputs": [
    {
     "name": "stdout",
     "output_type": "stream",
     "text": [
      "1 -> Insert At Beginning\n",
      "2 -> Insert At End\n",
      "3 -> Insert At Specified Index\n",
      "4 -> Delete At Beginning\n",
      "5 -> Delete At End\n",
      "6 -> Delete At Specific Index\n",
      "7 -> Traverse\n",
      "8 -> Length\n",
      "9 -> Exit\n",
      "1 2 3 4 5 \n",
      "0 1 2 3 4 5 \n",
      "Length: 6\n",
      "0 1 2 3 4 5 7 \n",
      "Length: 7\n",
      "Invalid position\n",
      "1 2 3 4 5 7 \n",
      "1 2 3 4 5 7 \n",
      "1 2 100 3 4 5 7 \n",
      "100 3 4 5 7 \n",
      "100 3 4 \n",
      "100 3 4 8 9 10 \n",
      "Length: 6\n",
      "6\n",
      "100 4 8 9 10 \n",
      "100 4 8 9 10 \n",
      "Length: 5\n",
      "5\n",
      "100 4 9 10 \n"
     ]
    }
   ],
   "source": [
    "obj=LinkList()\n",
    "print(\"1 -> Insert At Beginning\")\n",
    "print(\"2 -> Insert At End\")\n",
    "print(\"3 -> Insert At Specified Index\")\n",
    "print(\"4 -> Delete At Beginning\")\n",
    "print(\"5 -> Delete At End\")\n",
    "print(\"6 -> Delete At Specific Index\")\n",
    "print(\"7 -> Traverse\")\n",
    "print(\"8 -> Length\")\n",
    "print(\"9 -> Exit\")\n",
    "while True:\n",
    "    ch=int(input(\"Enter your choice\"))\n",
    "    match ch:\n",
    "        case 1:\n",
    "            n = int(input(\"Enter data: \"))\n",
    "            obj.insertAtBegin(n)\n",
    "        case 2:\n",
    "            n = int(input(\"Enter data: \")) \n",
    "            obj.insertAtEnd(n)\n",
    "        case 3:\n",
    "            n = int(input(\"Enter data: \"))\n",
    "            pos = int(input(\"Enter position\"))\n",
    "            obj.insertAtSpecific(pos, n)\n",
    "        case 4:\n",
    "            obj.deleteAtBegin()\n",
    "        case 5:\n",
    "            obj.deleteAtEnd()\n",
    "        case 6:\n",
    "            pos = int(input(\"Enter Positon\"))\n",
    "            obj.deleteAtSpecific(pos)\n",
    "        case 7:\n",
    "            obj.traverse()\n",
    "        case 8:\n",
    "            print(f\"Length: {obj.length()}\")\n",
    "        case 9:\n",
    "            break           \n",
    "        "
   ]
  },
  {
   "cell_type": "code",
   "execution_count": 6,
   "metadata": {},
   "outputs": [
    {
     "name": "stdout",
     "output_type": "stream",
     "text": [
      "1 2 3 4 5 6 \n",
      "4 5 6 1 2 3 \n"
     ]
    }
   ],
   "source": [
    "#rotate link list\n",
    "obj=LinkList()\n",
    "for i in range(6):\n",
    "    obj.insertAtEnd(i+1)\n",
    "obj.traverse()\n",
    "k=int(input(\"Enter number of rotation: \"))\n",
    "for i in range(k):\n",
    "    data = obj.deleteAtEnd()\n",
    "    obj.insertAtBegin(data)\n",
    "\n",
    "obj.traverse()"
   ]
  },
  {
   "cell_type": "code",
   "execution_count": 5,
   "metadata": {},
   "outputs": [
    {
     "name": "stdout",
     "output_type": "stream",
     "text": [
      "1 2 3 4 \n",
      "1 3 4 \n"
     ]
    }
   ],
   "source": [
    "#delete from middle\n",
    "obj = LinkList()\n",
    "num = int(input(\"Enter number of element\"))\n",
    "li = list(map(int, input(f\"Enter {num} Elements\").split()))\n",
    "for ele in li:\n",
    "   obj.insertAtEnd(ele)\n",
    "\n",
    "obj.traverse()\n",
    "mid = (obj.length() + 1)//2\n",
    "obj.deleteAtSpecific(mid)\n",
    "obj.traverse()"
   ]
  },
  {
   "cell_type": "code",
   "execution_count": 7,
   "metadata": {},
   "outputs": [
    {
     "name": "stdout",
     "output_type": "stream",
     "text": [
      "1-> Push\n",
      "2-> Pop\n",
      "3-> Tarverse\n",
      "4-> Peek\n",
      "5-> Exit\n",
      "Direction is from left to right\n",
      "4 3 2 1 \n",
      "Top Element is 4\n",
      "Direction is from left to right\n",
      "4 3 2 1 \n",
      "Top Element is 2\n",
      "Direction is from left to right\n",
      "2 1 \n"
     ]
    }
   ],
   "source": [
    "# impliment stack using linklist\n",
    "print(\"1-> Push\")\n",
    "print(\"2-> Pop\")\n",
    "print(\"3-> Tarverse\")\n",
    "print(\"4-> Peek\")\n",
    "print(\"5-> Exit\")\n",
    "obj = LinkList()\n",
    "while True:\n",
    "    ch = int(input(\"Enter \"))\n",
    "    match ch:\n",
    "        case 1:\n",
    "            obj.insertAtBegin(int(input(\"Enter ele\")))\n",
    "        case 2:\n",
    "            obj.deleteAtBegin()\n",
    "        case 3:\n",
    "            print(\"Direction is from left to right\")\n",
    "            obj.traverse()\n",
    "        case 4:\n",
    "            data = obj.deleteAtBegin()\n",
    "            print(f\"Top Element is {data}\")\n",
    "            obj.insertAtBegin(data)\n",
    "        case 5:\n",
    "            break"
   ]
  },
  {
   "cell_type": "code",
   "execution_count": 24,
   "metadata": {},
   "outputs": [
    {
     "name": "stdout",
     "output_type": "stream",
     "text": [
      "1-> Push\n",
      "2-> Pop\n",
      "3-> Traverse\n",
      "4-> Exit\n",
      "1 2 3 4 \n",
      "3 4 \n",
      "3 4 5 7 \n",
      "5 7 \n"
     ]
    }
   ],
   "source": [
    "#implement queue using linklist\n",
    "obj = LinkList()\n",
    "print(\"1-> Push\")\n",
    "print(\"2-> Pop\")\n",
    "print(\"3-> Traverse\")\n",
    "print(\"4-> Exit\")\n",
    "\n",
    "while True:\n",
    "    ch = int(input(\"Enter choice\"))\n",
    "    match ch:\n",
    "        case 1:\n",
    "            obj.insertAtEnd(int(input(\"Enter ele:\")))\n",
    "        case 2:\n",
    "            obj.deleteAtBegin()\n",
    "        case 3:\n",
    "            obj.traverse()\n",
    "        case 4:\n",
    "            break"
   ]
  },
  {
   "cell_type": "code",
   "execution_count": 13,
   "metadata": {},
   "outputs": [
    {
     "name": "stdout",
     "output_type": "stream",
     "text": [
      "Max: 6, Min:-3\n"
     ]
    }
   ],
   "source": [
    "#find min and max in link list\n",
    "obj = LinkList()\n",
    "num = int((input(\"enter number of element\")))\n",
    "li = list(map(int, input(\"Enter {} Elements\".format(num)).split()))\n",
    "for i in li:\n",
    "   obj.insertAtEnd(i)\n",
    "\n",
    "max=0\n",
    "min=1e9\n",
    "\n",
    "while obj.length() != 0:\n",
    "    data = obj.deleteAtEnd()\n",
    "    if data > max:\n",
    "        max = data\n",
    "    if data < min:\n",
    "        min = data\n",
    "\n",
    "print(f'Max: {max}, Min:{min}')\n"
   ]
  },
  {
   "cell_type": "code",
   "execution_count": 20,
   "metadata": {},
   "outputs": [
    {
     "name": "stdout",
     "output_type": "stream",
     "text": [
      "[5, 5, 5, 2, 2, 6, 3]\n"
     ]
    }
   ],
   "source": [
    "# Given a list of the array, sort the array in descending order with the frequency of elements.\n",
    "# Input : [2, 5, 6, 2, 3, 5, 5]                          \n",
    "# Output : [5, 5, 5, 2, 2, 6, 3]\n",
    "from collections import Counter\n",
    "li = [2, 5, 6, 2, 3, 5, 5]\n",
    "freq = Counter(li)\n",
    "li.sort(key = lambda ele: (-freq[ele], -ele))\n",
    "print(li)"
   ]
  },
  {
   "cell_type": "code",
   "execution_count": 23,
   "metadata": {},
   "outputs": [
    {
     "data": {
      "text/plain": [
       "'13211311123113112211'"
      ]
     },
     "execution_count": 23,
     "metadata": {},
     "output_type": "execute_result"
    }
   ],
   "source": [
    "# Look-and-Say Pattern:\n",
    "# To generate a member of the sequence from the previous member, read off the digits of the previous member, counting the number of digits in groups of the same digit. For example:\n",
    "# 1 is read off as \"one 1\" or 11.\n",
    "# 11 is read off as \"two 1s\" or 21.\n",
    "# 21 is read off as \"one 2, then one 1\" or 1211.\n",
    "# 1211 is read off as \"one 1, one 2, then two 1s\" or 111221.\n",
    "# 111221 is read off as \"three 1s, two 2s, then one 1\" or 312211.\n",
    "\n",
    "def lookandsay(n):\n",
    "    li=[\"1\"]\n",
    "    for i in range(1,n):\n",
    "        ans = ''\n",
    "        prev = li[i-1]\n",
    "        count = 1\n",
    "        x = prev[0]\n",
    "        for j in range(1,len(prev)):\n",
    "            if prev[j] == x:\n",
    "                count += 1\n",
    "            else:\n",
    "                ans = ans + str(count) + str(x)\n",
    "                count = 1\n",
    "                x = prev[j]\n",
    "                \n",
    "        ans = ans + str(count) + str(x)\n",
    "        li.append(ans)\n",
    "        \n",
    "    return li[n-1]\n",
    "\n",
    "lookandsay(10)"
   ]
  }
 ],
 "metadata": {
  "kernelspec": {
   "display_name": "Python 3",
   "language": "python",
   "name": "python3"
  },
  "language_info": {
   "codemirror_mode": {
    "name": "ipython",
    "version": 3
   },
   "file_extension": ".py",
   "mimetype": "text/x-python",
   "name": "python",
   "nbconvert_exporter": "python",
   "pygments_lexer": "ipython3",
   "version": "3.12.6"
  }
 },
 "nbformat": 4,
 "nbformat_minor": 2
}
