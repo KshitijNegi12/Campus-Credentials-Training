{
 "cells": [
  {
   "cell_type": "markdown",
   "metadata": {},
   "source": [
    "TYPE CONVERSION"
   ]
  },
  {
   "cell_type": "code",
   "execution_count": 2,
   "metadata": {},
   "outputs": [
    {
     "name": "stdout",
     "output_type": "stream",
     "text": [
      "INT CONVERSION\n",
      "123\n",
      "1\n",
      "0\n",
      "10\n"
     ]
    }
   ],
   "source": [
    "#int()\n",
    "print(\"INT CONVERSION\")\n",
    "print(int(123.456)) #123\n",
    "print(int(True))    #1\n",
    "print(int(False))   #0\n",
    "print(int(\"10\"))    #10\n",
    "# print(int(\"10.5\"))  #invalid literal for int() with base 10: '10.5'\n",
    "# print(int(\"ten\"))   #invalid literal for int() with base 10: 'ten'"
   ]
  },
  {
   "cell_type": "code",
   "execution_count": 3,
   "metadata": {},
   "outputs": [
    {
     "name": "stdout",
     "output_type": "stream",
     "text": [
      "FLOAT CONVERSION\n",
      "123.0\n",
      "1.0\n",
      "0.0\n",
      "10.0\n",
      "10.5\n"
     ]
    }
   ],
   "source": [
    "#float()\n",
    "print(\"FLOAT CONVERSION\")\n",
    "print(float(123)) #123.0\n",
    "print(float(True)) #1.0\n",
    "print(float(False)) #0.0\n",
    "print(float(\"10\")) #10.0\n",
    "print(float(\"10.5\")) #10.5\n",
    "# print(float(\"ten\")) #could not convert string to float: 'ten'"
   ]
  },
  {
   "cell_type": "code",
   "execution_count": 4,
   "metadata": {},
   "outputs": [
    {
     "name": "stdout",
     "output_type": "stream",
     "text": [
      "COMPLEX CONVERSION\n",
      "(2+3j)\n",
      "(4-19j)\n",
      "(1+0j)\n",
      "(10+0j)\n",
      "(10.5+0j)\n",
      "(1+0j)\n",
      "0j\n",
      "(10+0j)\n",
      "(10.5+0j)\n"
     ]
    }
   ],
   "source": [
    "#complex\n",
    "print(\"COMPLEX CONVERSION\")\n",
    "print(complex(2,3))\n",
    "print(complex(4,-19))\n",
    "print(complex(True,False))\n",
    "print(complex(10))\n",
    "print(complex(10.5))\n",
    "print(complex(True))\n",
    "print(complex(False))\n",
    "print(complex(\"10\"))\n",
    "print(complex(\"10.5\"))"
   ]
  },
  {
   "cell_type": "code",
   "execution_count": 5,
   "metadata": {},
   "outputs": [
    {
     "name": "stdout",
     "output_type": "stream",
     "text": [
      "BOOL CONVERSION\n",
      "True\n",
      "True\n",
      "False\n",
      "True\n",
      "True\n",
      "False\n"
     ]
    }
   ],
   "source": [
    "#bool\n",
    "print(\"BOOL CONVERSION\")\n",
    "print(bool(123)) \n",
    "print(bool(1.0)) \n",
    "print(bool(0.0)) \n",
    "print(bool(0.1)) \n",
    "print(bool(\"abc\")) \n",
    "print(bool(\"\")) "
   ]
  },
  {
   "cell_type": "code",
   "execution_count": 7,
   "metadata": {},
   "outputs": [
    {
     "name": "stdout",
     "output_type": "stream",
     "text": [
      "STRING CONVERSION\n",
      "123\n",
      "10.5\n",
      "True\n",
      "False\n",
      "hello\n"
     ]
    }
   ],
   "source": [
    "#str\n",
    "print(\"STRING CONVERSION\")\n",
    "print(str(123))\n",
    "print(str(10.5))\n",
    "print(str(True))\n",
    "print(str(False))\n",
    "print(str(\"hello\"))\n"
   ]
  },
  {
   "cell_type": "code",
   "execution_count": 9,
   "metadata": {},
   "outputs": [
    {
     "data": {
      "text/plain": [
       "97"
      ]
     },
     "execution_count": 9,
     "metadata": {},
     "output_type": "execute_result"
    }
   ],
   "source": [
    "#ord() - convert char to its ascii\n",
    "ord('a')"
   ]
  },
  {
   "cell_type": "code",
   "execution_count": 10,
   "metadata": {},
   "outputs": [
    {
     "data": {
      "text/plain": [
       "'a'"
      ]
     },
     "execution_count": 10,
     "metadata": {},
     "output_type": "execute_result"
    }
   ],
   "source": [
    "# chr() - convert ascii to char\n",
    "chr(97)"
   ]
  },
  {
   "cell_type": "code",
   "execution_count": 19,
   "metadata": {},
   "outputs": [
    {
     "name": "stdout",
     "output_type": "stream",
     "text": [
      "<class 'bytes'>\n",
      "10 20 30 "
     ]
    }
   ],
   "source": [
    "# bytes (No value modification can be done)\n",
    "x=[10,20,30]\n",
    "b =bytes(x)\n",
    "print(type(b))\n",
    "for i in b:\n",
    "    print(i, end=\" \")"
   ]
  },
  {
   "cell_type": "code",
   "execution_count": 20,
   "metadata": {},
   "outputs": [
    {
     "ename": "TypeError",
     "evalue": "'bytes' object does not support item assignment",
     "output_type": "error",
     "traceback": [
      "\u001b[1;31m---------------------------------------------------------------------------\u001b[0m",
      "\u001b[1;31mTypeError\u001b[0m                                 Traceback (most recent call last)",
      "\u001b[1;32md:\\Bootcamp\\Campus_Credentials_Bootcamp\\day1.ipynb Cell 8\u001b[0m line \u001b[0;36m1\n\u001b[1;32m----> <a href='vscode-notebook-cell:/d%3A/Bootcamp/Campus_Credentials_Bootcamp/day1.ipynb#X15sZmlsZQ%3D%3D?line=0'>1</a>\u001b[0m b[\u001b[39m0\u001b[39;49m] \u001b[39m=\u001b[39m \u001b[39m20\u001b[39m\n\u001b[0;32m      <a href='vscode-notebook-cell:/d%3A/Bootcamp/Campus_Credentials_Bootcamp/day1.ipynb#X15sZmlsZQ%3D%3D?line=1'>2</a>\u001b[0m \u001b[39mfor\u001b[39;00m i \u001b[39min\u001b[39;00m b:\n\u001b[0;32m      <a href='vscode-notebook-cell:/d%3A/Bootcamp/Campus_Credentials_Bootcamp/day1.ipynb#X15sZmlsZQ%3D%3D?line=2'>3</a>\u001b[0m     \u001b[39mprint\u001b[39m(i, end\u001b[39m=\u001b[39m\u001b[39m\"\u001b[39m\u001b[39m \u001b[39m\u001b[39m\"\u001b[39m)\n",
      "\u001b[1;31mTypeError\u001b[0m: 'bytes' object does not support item assignment"
     ]
    }
   ],
   "source": [
    "b[0] = 20\n",
    "for i in b:\n",
    "    print(i, end=\" \")"
   ]
  },
  {
   "cell_type": "code",
   "execution_count": 21,
   "metadata": {},
   "outputs": [
    {
     "name": "stdout",
     "output_type": "stream",
     "text": [
      "<class 'bytearray'>\n",
      "10 20 30 "
     ]
    }
   ],
   "source": [
    "#bytearray (Modification on value can be done)\n",
    "x=[10,20,30]\n",
    "b =bytearray(x)\n",
    "print(type(b))\n",
    "for i in b:\n",
    "    print(i, end=\" \")"
   ]
  },
  {
   "cell_type": "code",
   "execution_count": 22,
   "metadata": {},
   "outputs": [
    {
     "name": "stdout",
     "output_type": "stream",
     "text": [
      "100 20 30 "
     ]
    }
   ],
   "source": [
    "b[0] = 100\n",
    "for i in b:\n",
    "    print(i, end=\" \")"
   ]
  },
  {
   "cell_type": "markdown",
   "metadata": {},
   "source": [
    "1. Identitiy Operator (is, is not)\n"
   ]
  },
  {
   "cell_type": "code",
   "execution_count": 29,
   "metadata": {},
   "outputs": [
    {
     "name": "stdout",
     "output_type": "stream",
     "text": [
      "True\n",
      "False\n"
     ]
    }
   ],
   "source": [
    "s1 = \"abc\"\n",
    "s2 = \"abc\"\n",
    "print(s1 is s2)\n",
    "print(s1 is not s2)"
   ]
  },
  {
   "cell_type": "code",
   "execution_count": 26,
   "metadata": {},
   "outputs": [
    {
     "name": "stdout",
     "output_type": "stream",
     "text": [
      "140703772907568 140703772907568\n",
      "False\n",
      "True\n"
     ]
    }
   ],
   "source": [
    "a = 10 \n",
    "b = 10\n",
    "# id() print address of variable\n",
    "print(id(a), id(b))\n",
    "print(a is not b)\n",
    "print(a is b)"
   ]
  },
  {
   "cell_type": "markdown",
   "metadata": {},
   "source": [
    "2. Membership Operator (in, not in)"
   ]
  },
  {
   "cell_type": "code",
   "execution_count": 9,
   "metadata": {},
   "outputs": [
    {
     "data": {
      "text/plain": [
       "True"
      ]
     },
     "execution_count": 9,
     "metadata": {},
     "output_type": "execute_result"
    }
   ],
   "source": [
    "li = [10,20,30,40]\n",
    "10 in li"
   ]
  },
  {
   "cell_type": "code",
   "execution_count": 10,
   "metadata": {},
   "outputs": [
    {
     "data": {
      "text/plain": [
       "False"
      ]
     },
     "execution_count": 10,
     "metadata": {},
     "output_type": "execute_result"
    }
   ],
   "source": [
    "20 not in li"
   ]
  },
  {
   "cell_type": "code",
   "execution_count": 35,
   "metadata": {},
   "outputs": [
    {
     "name": "stdout",
     "output_type": "stream",
     "text": [
      "10\n"
     ]
    }
   ],
   "source": [
    "# Add first and last digit of a 9 digit number\n",
    "num = input(\"enter 9 digit num\")\n",
    "print(int(num[0])+int(num[-1]))"
   ]
  },
  {
   "cell_type": "markdown",
   "metadata": {},
   "source": [
    "Module Imports"
   ]
  },
  {
   "cell_type": "code",
   "execution_count": 4,
   "metadata": {},
   "outputs": [
    {
     "name": "stdout",
     "output_type": "stream",
     "text": [
      "3.141592653589793\n"
     ]
    },
    {
     "data": {
      "text/plain": [
       "6.0"
      ]
     },
     "execution_count": 4,
     "metadata": {},
     "output_type": "execute_result"
    }
   ],
   "source": [
    "import math\n",
    "print(math.pi)\n",
    "math.sqrt(36)"
   ]
  },
  {
   "cell_type": "code",
   "execution_count": 6,
   "metadata": {},
   "outputs": [
    {
     "name": "stdout",
     "output_type": "stream",
     "text": [
      "3.141592653589793\n"
     ]
    },
    {
     "data": {
      "text/plain": [
       "9.0"
      ]
     },
     "execution_count": 6,
     "metadata": {},
     "output_type": "execute_result"
    }
   ],
   "source": [
    "from math import pi,sqrt\n",
    "print(pi)\n",
    "sqrt(81)"
   ]
  },
  {
   "cell_type": "code",
   "execution_count": 8,
   "metadata": {},
   "outputs": [
    {
     "name": "stdout",
     "output_type": "stream",
     "text": [
      "5.0\n"
     ]
    },
    {
     "data": {
      "text/plain": [
       "3.141592653589793"
      ]
     },
     "execution_count": 8,
     "metadata": {},
     "output_type": "execute_result"
    }
   ],
   "source": [
    "import math as m\n",
    "print(m.sqrt(25))\n",
    "m.pi"
   ]
  },
  {
   "cell_type": "code",
   "execution_count": 12,
   "metadata": {},
   "outputs": [
    {
     "name": "stdout",
     "output_type": "stream",
     "text": [
      "Sum:  124\n"
     ]
    }
   ],
   "source": [
    "# Add 2 num in single line\n",
    "print(\"Sum: \", int(input(\"Enter number 1: \")) + int(input(\"Enter number 2:\")))"
   ]
  },
  {
   "cell_type": "code",
   "execution_count": 15,
   "metadata": {},
   "outputs": [
    {
     "name": "stdout",
     "output_type": "stream",
     "text": [
      "9\n",
      "<class 'int'>\n"
     ]
    }
   ],
   "source": [
    "text = \"4+3*2-1\"\n",
    "# x = eval(input(\"Enter values: \"))\n",
    "x= eval(text)\n",
    "print(x)\n",
    "print(type(x))"
   ]
  },
  {
   "cell_type": "code",
   "execution_count": 16,
   "metadata": {},
   "outputs": [
    {
     "name": "stdout",
     "output_type": "stream",
     "text": [
      "hello hello hello hello hello hello hello hello hello hello \n"
     ]
    }
   ],
   "source": [
    "print(10*\"hello \")"
   ]
  },
  {
   "cell_type": "code",
   "execution_count": 3,
   "metadata": {},
   "outputs": [
    {
     "name": "stdout",
     "output_type": "stream",
     "text": [
      "a is 10 and b is 20\n",
      "a is 10 and 20\n",
      "a is 10 and 20\n",
      "a is 10 and b is 20\n"
     ]
    }
   ],
   "source": [
    "a=10\n",
    "b=20\n",
    "c=30\n",
    "# {} replacement operator\n",
    "print('a is {0} and b is {1}'.format(a,b))\n",
    "print(f'a is {a} and {b}')\n",
    "print('a is {x} and {y}'.format(x=a, y=b))\n",
    "print('a is {} and b is {}'.format(a,b))\n"
   ]
  }
 ],
 "metadata": {
  "kernelspec": {
   "display_name": "Python 3",
   "language": "python",
   "name": "python3"
  },
  "language_info": {
   "codemirror_mode": {
    "name": "ipython",
    "version": 3
   },
   "file_extension": ".py",
   "mimetype": "text/x-python",
   "name": "python",
   "nbconvert_exporter": "python",
   "pygments_lexer": "ipython3",
   "version": "3.8.10"
  },
  "orig_nbformat": 4
 },
 "nbformat": 4,
 "nbformat_minor": 2
}
