{
 "cells": [
  {
   "cell_type": "code",
   "execution_count": 2,
   "metadata": {},
   "outputs": [
    {
     "name": "stdout",
     "output_type": "stream",
     "text": [
      "[1, 3, 5, 6, 8, 9]\n"
     ]
    }
   ],
   "source": [
    "# Bubble sort\n",
    "li =  [5,3,6,1,8,9]\n",
    "for i in range(len(li)):\n",
    "    for j in range(len(li)-1):\n",
    "        if li[j] > li[j+1]:\n",
    "            li[j], li[j+1] = li[j+1], li[j]\n",
    "\n",
    "print(li)"
   ]
  },
  {
   "cell_type": "code",
   "execution_count": 3,
   "metadata": {},
   "outputs": [
    {
     "name": "stdout",
     "output_type": "stream",
     "text": [
      "[1, 3, 5, 6, 8, 9]\n"
     ]
    }
   ],
   "source": [
    "# selection sort\n",
    "def findMin(li, pos, ele):\n",
    "    idx = -1\n",
    "    for i in range(pos,len(li)):\n",
    "        if ele > li[i]:\n",
    "            ele = li[i]\n",
    "            idx = i\n",
    "    return idx\n",
    "\n",
    "li =  [5,3,6,1,8,9]\n",
    "for i in range(len(li)):\n",
    "    minEleIndex = findMin(li,i+1,li[i])\n",
    "    if minEleIndex != -1:\n",
    "        li[minEleIndex], li[i] = li[i], li[minEleIndex]\n",
    "\n",
    "print(li) "
   ]
  },
  {
   "cell_type": "code",
   "execution_count": 4,
   "metadata": {},
   "outputs": [
    {
     "name": "stdout",
     "output_type": "stream",
     "text": [
      "[1, 3, 5, 6, 8, 9]\n"
     ]
    }
   ],
   "source": [
    "# insertion sort\n",
    "li =  [5,3,6,1,8,9]\n",
    "for i in range(1,len(li)):\n",
    "    ele = li[i]\n",
    "    j = i-1\n",
    "    while j >= 0 and li[j] > ele:\n",
    "        li[j+1] = li[j]\n",
    "        j -= 1\n",
    "    li[j+1] = ele\n",
    "\n",
    "print(li)"
   ]
  },
  {
   "cell_type": "code",
   "execution_count": 5,
   "metadata": {},
   "outputs": [],
   "source": [
    "# Stack\n",
    "class Stack:\n",
    "    capacity = 100\n",
    "    def __init__(self):\n",
    "        self.top = -1 \n",
    "        self.list = [-1] * self.capacity\n",
    "    \n",
    "    def isFull(self):\n",
    "        if self.top == self.capacity - 1:\n",
    "            return True\n",
    "        else:\n",
    "            return False\n",
    "\n",
    "    def push(self, data):\n",
    "        if self.isFull():\n",
    "            print(\"Stack is Full.\")\n",
    "        else:\n",
    "            self.top += 1\n",
    "            self.list[self.top] = data\n",
    "            # print(f\"{data} pushed successfully.\")\n",
    "\n",
    "    def isEmpty(self):\n",
    "        if self.top == -1:\n",
    "            return True\n",
    "        else:\n",
    "            False\n",
    "\n",
    "    def pop(self):\n",
    "        if self.isEmpty():\n",
    "            print(\"Stack is Empty.\")\n",
    "        else:\n",
    "            top_ele = self.list[self.top]\n",
    "            self.top -= 1\n",
    "            # print(f\"Top Element {top_ele} popped from the stack successfully.\")\n",
    "            return top_ele\n",
    "            \n",
    "    def peek(self):\n",
    "        if self.isEmpty():\n",
    "            print(\"Stack is Empty.\")\n",
    "        else:\n",
    "            top_ele = self.list[self.top]\n",
    "            return top_ele\n",
    "        \n",
    "    def traverse(self):\n",
    "        if self.isEmpty():\n",
    "            print(\"Stack is Empty\")\n",
    "        else:\n",
    "            print(\"Stack direction from right to left. \")\n",
    "            for i in range(self.top+1):\n",
    "                print(self.list[i], end=\" \")\n",
    "            print()"
   ]
  },
  {
   "cell_type": "code",
   "execution_count": 6,
   "metadata": {},
   "outputs": [
    {
     "name": "stdout",
     "output_type": "stream",
     "text": [
      "1 -> Push\n",
      "2 -> Pop\n",
      "3 -> Peek\n",
      "4 -> Traverse\n",
      "5 -> Exit\n",
      "Top Element is: 4\n",
      "Stack direction from right to left. \n",
      "1 2 3 4 \n",
      "Stack direction from right to left. \n",
      "1 2 3 4 \n",
      "Top Element is: 4\n",
      "Stack direction from right to left. \n",
      "1 2 3 4 \n",
      "Top Element is: 3\n",
      "Stack direction from right to left. \n",
      "1 2 3 \n"
     ]
    }
   ],
   "source": [
    "print(\"1 -> Push\")\n",
    "print(\"2 -> Pop\")\n",
    "print(\"3 -> Peek\")\n",
    "print(\"4 -> Traverse\")\n",
    "print(\"5 -> Exit\")\n",
    "\n",
    "obj = Stack()\n",
    "while True:\n",
    "    n = int(input(\"Enter your choice: \"))\n",
    "    if n == 1:\n",
    "        ele = int(input(\"Enter ele to push: \"))\n",
    "        obj.push(ele)\n",
    "    elif n == 2:\n",
    "        top_ele = obj.pop()\n",
    "    elif n == 3:\n",
    "        top_ele = obj.peek()\n",
    "        print(f'Top Element is: {top_ele}')\n",
    "    elif n == 4:\n",
    "        obj.traverse()\n",
    "    elif n == 5:\n",
    "        break"
   ]
  },
  {
   "cell_type": "code",
   "execution_count": 7,
   "metadata": {},
   "outputs": [
    {
     "name": "stdout",
     "output_type": "stream",
     "text": [
      "4\n"
     ]
    }
   ],
   "source": [
    "# count maximum consecutive 1\n",
    "li = [1,1,0,1,1,1,0,1,1,1,1,0,1,1]\n",
    "res = 0\n",
    "curr = 0\n",
    "\n",
    "for i in li:\n",
    "    if i == 1:\n",
    "        curr += 1\n",
    "    else:\n",
    "        res = max(res, curr)\n",
    "        curr = 0\n",
    "\n",
    "print(res)"
   ]
  },
  {
   "cell_type": "code",
   "execution_count": 8,
   "metadata": {},
   "outputs": [
    {
     "name": "stdout",
     "output_type": "stream",
     "text": [
      "igeN jitihsK\n"
     ]
    }
   ],
   "source": [
    "# Reverse string using stack\n",
    "st = Stack()\n",
    "s = \"Kshitij Negi\"\n",
    "for i in s:\n",
    "    st.push(i)\n",
    "\n",
    "res = ''\n",
    "while not st.isEmpty():\n",
    "    res += st.pop()\n",
    "\n",
    "print(res)"
   ]
  },
  {
   "cell_type": "code",
   "execution_count": 9,
   "metadata": {},
   "outputs": [
    {
     "name": "stdout",
     "output_type": "stream",
     "text": [
      "Stack direction from right to left. \n",
      "1 2 3 4 5 \n",
      "Stack direction from right to left. \n",
      "1 2 4 5 \n",
      "Stack direction from right to left. \n",
      "1 2 3 4 5 6 \n",
      "Stack direction from right to left. \n",
      "1 2 4 5 6 \n"
     ]
    }
   ],
   "source": [
    "# remove middle element of Stack\n",
    "import math\n",
    "def removeMiddle(st):\n",
    "    mid = math.ceil(st.top/2)\n",
    "    st2 = Stack()\n",
    "    while mid > 0:\n",
    "        st2.push(st.pop())\n",
    "        mid -= 1\n",
    "    st.pop()\n",
    "\n",
    "    while not st2.isEmpty():\n",
    "        st.push(st2.pop())\n",
    "\n",
    "\n",
    "def getList(li):\n",
    "    obj = Stack()\n",
    "    for i in li:\n",
    "        obj.push(i)\n",
    "    obj.traverse()\n",
    "    removeMiddle(obj)\n",
    "    obj.traverse()\n",
    "\n",
    "getList([1,2,3,4,5])\n",
    "getList([1,2,3,4,5,6])"
   ]
  },
  {
   "cell_type": "code",
   "execution_count": 10,
   "metadata": {},
   "outputs": [
    {
     "name": "stdout",
     "output_type": "stream",
     "text": [
      "Stack direction from right to left. \n",
      "3 23 31 34 92 98 \n",
      "Stack direction from right to left. \n",
      "1 2 3 4 5 8 \n",
      "Stack direction from right to left. \n",
      "1 3 \n"
     ]
    }
   ],
   "source": [
    "# sort stack using temp stack\n",
    "def sortStack(st):\n",
    "    st2 = Stack()\n",
    "    while not st.isEmpty():\n",
    "        if st2.isEmpty():\n",
    "            st2.push(st.pop())\n",
    "        elif st.peek() > st2.peek():\n",
    "            first_top = st.pop()\n",
    "            while not st2.isEmpty() and first_top > st2.peek():\n",
    "                st.push(st2.pop())\n",
    "            st.push(first_top)\n",
    "            while not st2.isEmpty():\n",
    "                st.push(st2.pop())\n",
    "        else:\n",
    "            st2.push(st.pop())\n",
    "    \n",
    "    while not st2.isEmpty():\n",
    "        st.push(st2.pop())\n",
    "    \n",
    "    st.traverse()\n",
    "\n",
    "\n",
    "def createStack(li):\n",
    "    st = Stack()\n",
    "    for i in li:\n",
    "        st.push(i)\n",
    "    sortStack(st)\n",
    "\n",
    "li = [34,3,31,98,92,23]\n",
    "createStack(li)\n",
    "\n",
    "li = [3,5,1,4,2,8]\n",
    "createStack(li)\n",
    "\n",
    "li = [3,1]\n",
    "createStack(li)"
   ]
  },
  {
   "cell_type": "code",
   "execution_count": 11,
   "metadata": {},
   "outputs": [
    {
     "data": {
      "text/plain": [
       "[[1, 6], [8, 10], [15, 18]]"
      ]
     },
     "execution_count": 11,
     "metadata": {},
     "output_type": "execute_result"
    }
   ],
   "source": [
    "# merge overlapping interval\n",
    "def merInterval(li):\n",
    "    stack = Stack()\n",
    "    for i in li:\n",
    "        if stack.isEmpty():\n",
    "            stack.push(i)\n",
    "        else:\n",
    "            if i[0] < stack.peek()[1]:\n",
    "                top = stack.pop()\n",
    "                top[1] = max(top[1], i[1])\n",
    "                stack.push(top)\n",
    "            else:\n",
    "                stack.push(i)\n",
    "    res = []\n",
    "    while(not stack.isEmpty()):\n",
    "        res.append(stack.pop())\n",
    "    return res[::-1]\n",
    "\n",
    "\n",
    "li = [[1,3],[2,6],[8,10],[15,18]]\n",
    "merInterval(li)"
   ]
  },
  {
   "cell_type": "code",
   "execution_count": 12,
   "metadata": {},
   "outputs": [
    {
     "name": "stdout",
     "output_type": "stream",
     "text": [
      "4\n",
      "[1, 2, 3, -5, -1, 6, -6, -2, 9, 10]\n",
      "4\n"
     ]
    }
   ],
   "source": [
    "# first smallest missing positive number\n",
    "def way1(li):\n",
    "    li.sort()\n",
    "    j=1\n",
    "    for i in li:\n",
    "        if i <= 0 :\n",
    "            continue\n",
    "        else:\n",
    "            if j == i:\n",
    "                j += 1\n",
    "            else:\n",
    "                ans = j\n",
    "                break\n",
    "    return ans\n",
    "\n",
    "def way2(li):\n",
    "    for i in range(len(li)):\n",
    "        if li[i] > 0 and li[i] < len(li):\n",
    "            temp = li[i]\n",
    "            li[i] = li[li[i]-1]\n",
    "            # li[li[i]-1] = temp not work because li[i] is updated recently\n",
    "            li[temp-1] = temp\n",
    "\n",
    "    print(li)\n",
    "    for i in range(len(li)):\n",
    "        if i+1 != li[i]:\n",
    "            return i+1\n",
    "        \n",
    "li = [-1,-2,-6,-5,1,6,3,2,9,10]\n",
    "print(way1(li))\n",
    "li = [-1,-2,-6,-5,1,6,3,2,9,10]\n",
    "print(way2(li))"
   ]
  },
  {
   "cell_type": "code",
   "execution_count": 13,
   "metadata": {},
   "outputs": [],
   "source": [
    "# Linear Queue\n",
    "class Queue:\n",
    "    capacity = 100\n",
    "    def __init__(self):\n",
    "        self.front = 0\n",
    "        self.rear = -1\n",
    "        self.queue = [-1]*100\n",
    "    \n",
    "    def isFull(self):\n",
    "        if self.rear == self.capacity-1:\n",
    "            return True\n",
    "        return False\n",
    "    \n",
    "    def isEmpty(self):\n",
    "        if self.rear == -1:\n",
    "            return True\n",
    "        return False\n",
    "    \n",
    "    def push(self, data):\n",
    "        if self.isFull():\n",
    "            print(\"Queue is Full.\")\n",
    "        else:\n",
    "            self.rear += 1\n",
    "            self.queue[self.rear] = data\n",
    "    \n",
    "    def pop(self):\n",
    "        if self.isEmpty():\n",
    "            print(\"Queue is Empty.\")\n",
    "        else:\n",
    "            front_ele = self.queue[self.front]\n",
    "            for i in range(self.rear):\n",
    "                self.queue[i] = self.queue[i+1]\n",
    "            self.rear -= 1\n",
    "            return front_ele\n",
    "    \n",
    "    def traverse(self):\n",
    "        if self.isEmpty():\n",
    "            print(\"Queue is Empty\")\n",
    "        else:\n",
    "            for i in range(self.rear+1):\n",
    "                print(self.queue[i], end=\" \")\n",
    "            print()\n"
   ]
  },
  {
   "cell_type": "code",
   "execution_count": 14,
   "metadata": {},
   "outputs": [
    {
     "name": "stdout",
     "output_type": "stream",
     "text": [
      "1-> Insert\n",
      "2-> Delete\n",
      "3-> Traverse\n",
      "4-> Exit\n",
      "1 2 3 \n",
      "Front Element is: 1\n",
      "2 3 4 \n"
     ]
    }
   ],
   "source": [
    "print(\"1-> Insert\")\n",
    "print(\"2-> Delete\")\n",
    "print(\"3-> Traverse\")\n",
    "print(\"4-> Exit\")\n",
    "\n",
    "obj = Queue()\n",
    "while True:\n",
    "    n = int(input(\"Enter your choice: \"))\n",
    "    if n == 1:\n",
    "        ele = int(input(\"Enter ele to push: \"))\n",
    "        obj.push(ele)\n",
    "    elif n == 2:\n",
    "        front_ele = obj.pop()\n",
    "        print(f'Front Element is: {front_ele}')\n",
    "    elif n == 3:\n",
    "        obj.traverse()\n",
    "    elif n == 4:\n",
    "        break"
   ]
  },
  {
   "cell_type": "code",
   "execution_count": 20,
   "metadata": {},
   "outputs": [
    {
     "name": "stdout",
     "output_type": "stream",
     "text": [
      "Stack: \n",
      "Stack direction from right to left. \n",
      "4 3 2 1 \n",
      "Queue: \n",
      "8 7 6 5 \n",
      "Stack: \n",
      "Stack direction from right to left. \n",
      "8 7 6 5 \n",
      "Queue: \n",
      "1 2 3 4 \n"
     ]
    }
   ],
   "source": [
    "# interchange element of stack and queue\n",
    "def make(li1, li2):\n",
    "    stack = Stack()\n",
    "    queue = Queue()\n",
    "    for i in li1:\n",
    "        stack.push(i)\n",
    "\n",
    "    for i in li2:\n",
    "        queue.push(i)\n",
    "    \n",
    "    print(\"Stack: \")\n",
    "    stack.traverse()\n",
    "\n",
    "    print(\"Queue: \")\n",
    "    queue.traverse()\n",
    "\n",
    "    interchange(stack, queue)\n",
    "\n",
    "def interchange(stack, queue):\n",
    "    q_len = queue.rear\n",
    "\n",
    "    while not stack.isEmpty():\n",
    "        queue.push(stack.pop())\n",
    "\n",
    "    for i in range(q_len + 1):\n",
    "        stack.push(queue.pop())\n",
    "\n",
    "    print(\"Stack: \")\n",
    "    stack.traverse()\n",
    "\n",
    "    print(\"Queue: \")\n",
    "    queue.traverse()\n",
    "\n",
    "make([4,3,2,1],[8,7,6,5])"
   ]
  },
  {
   "cell_type": "code",
   "execution_count": 6,
   "metadata": {},
   "outputs": [
    {
     "name": "stdout",
     "output_type": "stream",
     "text": [
      "Move disk 1 from 1 to 3\n",
      "Move disk 2 from 1 to 2\n",
      "Move disk 1 from 3 to 2\n",
      "Move disk 3 from 1 to 3\n",
      "Move disk 1 from 2 to 1\n",
      "Move disk 2 from 2 to 3\n",
      "Move disk 1 from 1 to 3\n"
     ]
    }
   ],
   "source": [
    "# tower of hanoi using stack\n",
    "def say(n, a, b):\n",
    "    print(f\"Move disk {n} from {a} to {b}\")\n",
    "\n",
    "stk = Stack()\n",
    "def toh():\n",
    "    while not stk.isEmpty():\n",
    "        vals = stk.pop()\n",
    "        toh2(vals[0], vals[1], vals[2])\n",
    "\n",
    "\n",
    "def toh1(n,s,e):\n",
    "    while n > 0:\n",
    "        stk.push((n, s, e))\n",
    "        m = 6 - (s + e)\n",
    "        e = m\n",
    "        n -= 1\n",
    "    toh()\n",
    "\n",
    "\n",
    "def toh2(n,s,e):\n",
    "    say(n,s,e)\n",
    "    if n != 1:\n",
    "        toh1(n-1, 6-(s + e), e)\n",
    "\n",
    "toh1(3,1,3)"
   ]
  },
  {
   "cell_type": "code",
   "execution_count": 11,
   "metadata": {},
   "outputs": [
    {
     "name": "stdout",
     "output_type": "stream",
     "text": [
      "Solution\n",
      " 4  3\n",
      "(0, 0)\n",
      "(0, 3)\n",
      "(3, 0)\n",
      "(3, 3)\n",
      "(4, 2)\n",
      "Solution\n",
      " 5  3\n",
      "(0, 0)\n",
      "(5, 0)\n",
      "(2, 3)\n",
      "(2, 0)\n",
      "(0, 2)\n",
      "(5, 2)\n",
      "(4, 3)\n"
     ]
    }
   ],
   "source": [
    "from collections import deque\n",
    "\n",
    "def jugProb(jug1, jug2, target):\n",
    "    res = solve(jug1, jug2, target)\n",
    "    if res:\n",
    "        print(\"Solution\")\n",
    "        print(f' {jug1}  {jug2}')\n",
    "        for step in res:\n",
    "            print(step)\n",
    "    else:\n",
    "        print(\"No Solution Exist\")\n",
    "\n",
    "def solve(jug1, jug2, target):\n",
    "    res = []\n",
    "    queue = deque()\n",
    "    visited = set()\n",
    "    queue.append((0,0,[]))\n",
    "    \n",
    "    while queue:\n",
    "        j1, j2, steps = queue.popleft()\n",
    "        visited.add((j1,j2))\n",
    "        currSteps = steps + [(j1,j2)]\n",
    "\n",
    "        if j1 == target or j2 == target:\n",
    "            return currSteps\n",
    "\n",
    "        possiblities = [(jug1, j2), (j1, jug2), (0, j2), (j1, 0),\n",
    "                        (j1 - min(jug2-j2, j1), j2 + min(jug2-j2, j1)),\n",
    "                        (j1 + min(jug1-j1, j2), j2 - min(jug1-j1, j2))]\n",
    "        \n",
    "        for way in possiblities:\n",
    "            if way not in visited:\n",
    "                queue.append((way[0], way[1], currSteps))\n",
    "\n",
    "    return None\n",
    "jugProb(4,3,2)\n",
    "jugProb(5,3,4)"
   ]
  }
 ],
 "metadata": {
  "kernelspec": {
   "display_name": "Python 3",
   "language": "python",
   "name": "python3"
  },
  "language_info": {
   "codemirror_mode": {
    "name": "ipython",
    "version": 3
   },
   "file_extension": ".py",
   "mimetype": "text/x-python",
   "name": "python",
   "nbconvert_exporter": "python",
   "pygments_lexer": "ipython3",
   "version": "3.12.6"
  },
  "orig_nbformat": 4
 },
 "nbformat": 4,
 "nbformat_minor": 2
}
