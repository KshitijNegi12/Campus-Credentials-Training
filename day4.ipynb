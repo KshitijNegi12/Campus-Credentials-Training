{
 "cells": [
  {
   "cell_type": "code",
   "execution_count": 2,
   "metadata": {},
   "outputs": [
    {
     "name": "stdout",
     "output_type": "stream",
     "text": [
      "abcd abdc\n",
      "operation required: 2\n"
     ]
    }
   ],
   "source": [
    "#find no of operation required to convert string str1 to string str2\n",
    "str1=input(\"enter str1\")\n",
    "str2=input(\"enter str2\")\n",
    "count=0\n",
    "print(str1, str2)\n",
    "l1=len(str1)\n",
    "l2=len(str2)\n",
    "\n",
    "if(l1>l2):\n",
    "    print(\"operation required:\",l1-l2)\n",
    "elif l1<l2:\n",
    "    print(\"operation requied:\",l2-l1)\n",
    "else:\n",
    "    for i in range(l1):\n",
    "       if(str1[i]!=str2[i]):\n",
    "        count+=1\n",
    "         \n",
    "    print(\"operation required:\",count)"
   ]
  },
  {
   "cell_type": "code",
   "execution_count": 12,
   "metadata": {},
   "outputs": [
    {
     "name": "stdout",
     "output_type": "stream",
     "text": [
      "2.0\n"
     ]
    }
   ],
   "source": [
    "#find the missing num in series only single n(n+1)/2 \n",
    "n=int(input(\"enter no of element:\"))\n",
    "li = list(map(int, input(f\"Enter {n-1} space seperated elements: \").split()))\n",
    "sum = 0\n",
    "for i in li:\n",
    "    sum += i\n",
    "print(((n)*(n+1)//2) - sum)"
   ]
  },
  {
   "cell_type": "code",
   "execution_count": 14,
   "metadata": {},
   "outputs": [
    {
     "name": "stdout",
     "output_type": "stream",
     "text": [
      "[1, 2, 3]\n"
     ]
    }
   ],
   "source": [
    "num=[]\n",
    "n=int(input(\"enter no of element\"))\n",
    "for i in range(0,n):\n",
    "    num.append(int(input(\"enter list item: \")))\n",
    "\n",
    "num.sort()\n",
    "print(num)"
   ]
  },
  {
   "cell_type": "code",
   "execution_count": 16,
   "metadata": {},
   "outputs": [
    {
     "name": "stdout",
     "output_type": "stream",
     "text": [
      "[2, 3, 5]\n",
      "<class 'str'>\n"
     ]
    }
   ],
   "source": [
    "def primeNo(num):\n",
    "    i=2\n",
    "    j=1\n",
    "    while i*i <= num:\n",
    "        if(num%i==0):\n",
    "            return False\n",
    "        i+=1\n",
    "    return True\n",
    "\n",
    "l = int(input(\"enter starting number\"))\n",
    "r = int(input(\"enter last number\"))\n",
    "\n",
    "prime=[]\n",
    "for i in range(l,r+1):\n",
    "    if(primeNo(i)):\n",
    "       prime.append(i)\n",
    "\n",
    "print(prime)\n",
    "        \n",
    "str1=str(prime)\n",
    "print(str1)\n",
    "print(type(str1))"
   ]
  },
  {
   "cell_type": "code",
   "execution_count": 20,
   "metadata": {},
   "outputs": [],
   "source": [
    "# add \n",
    "def add(a,b):\n",
    "    print(\"addition:\",a+b)\n",
    "\n",
    "# subtract\n",
    "def sub(a,b):\n",
    "    print(\"sub:\",a-b)\n",
    "\n",
    "# armstrong\n",
    "def armstrongnumber(num):\n",
    "    temp=num\n",
    "    sum=0\n",
    "    count=0\n",
    "    while temp>0:\n",
    "        sum=sum+(temp%10)**count\n",
    "        temp=temp//10\n",
    "    if(sum==num):\n",
    "        print(\"entered number is armstrong no:\",num)\n",
    "    else:\n",
    "        print(\"entered number is not armstrong no:\",num)\n",
    "\n",
    "# palindrome\n",
    "def palindrome(num):\n",
    "    temp=num\n",
    "    rev=0\n",
    "    while temp>0:\n",
    "      rev =  rev*10 + temp%10\n",
    "      temp=temp//10\n",
    "    if rev == num:\n",
    "       print(\"entered number is palindrome\",num)\n",
    "    else:\n",
    "       print(\"entered number is not palindrome\",num)\n",
    "\n",
    "# Factorial \n",
    "def factorial(num):\n",
    "    if num < 1: return 1\n",
    "    return factorial(num-1) * num\n",
    "\n",
    "# Reverse\n",
    "def reverse(num):\n",
    "    temp=num\n",
    "    rev=0\n",
    "    while temp>0:\n",
    "      rev =  rev*10 + temp%10\n",
    "      temp=temp//10\n",
    "    return rev"
   ]
  },
  {
   "cell_type": "code",
   "execution_count": 23,
   "metadata": {},
   "outputs": [
    {
     "name": "stdout",
     "output_type": "stream",
     "text": [
      "addition: 5\n",
      "sub: 7\n",
      "entered number is not armstrong no: 153\n",
      "entered number is palindrome 212\n",
      "720\n",
      "78876\n"
     ]
    }
   ],
   "source": [
    "add(2,3)\n",
    "sub(10,3)\n",
    "armstrongnumber(153)\n",
    "palindrome(212)\n",
    "print(factorial(6))\n",
    "print(reverse(67887))"
   ]
  },
  {
   "cell_type": "code",
   "execution_count": 25,
   "metadata": {},
   "outputs": [
    {
     "name": "stdout",
     "output_type": "stream",
     "text": [
      "Hello, Kshitij\n"
     ]
    }
   ],
   "source": [
    "# calling function from another file\n",
    "from day4myfile import myfunc\n",
    "myfunc(\"Kshitij\")"
   ]
  },
  {
   "cell_type": "code",
   "execution_count": 35,
   "metadata": {},
   "outputs": [
    {
     "name": "stdout",
     "output_type": "stream",
     "text": [
      "1 for armstrongnumber\n",
      "2 for palindrome\n",
      "3 for factorial\n",
      "4 for reversenumber\n",
      "5 for exit\n",
      "entered number is not armstrong no: 153\n",
      "entered number is palindrome 121\n",
      "120\n",
      "2161\n"
     ]
    }
   ],
   "source": [
    "from day4myfile import *\n",
    "print(\"1 for armstrongnumber\")\n",
    "print(\"2 for palindrome\")\n",
    "print(\"3 for factorial\")\n",
    "print(\"4 for reversenumber\")\n",
    "print(\"5 for exit\")\n",
    "while True:\n",
    "    ch=int(input(\"enter your choice\"))\n",
    "    if ch==1:\n",
    "        num=(int(input(\"enter number\")))\n",
    "        armstrongnumber(num)\n",
    "    if ch==2:\n",
    "        num=(int(input(\"enter number\")))\n",
    "        palindrome(num)\n",
    "    if ch==3:\n",
    "        num=(int(input(\"enter number\")))\n",
    "        print(factorial(num))\n",
    "    if ch==4:\n",
    "        num=(int(input(\"enter number\")))\n",
    "        print(reverse(num))\n",
    "    if ch==5:\n",
    "        break"
   ]
  }
 ],
 "metadata": {
  "kernelspec": {
   "display_name": "Python 3",
   "language": "python",
   "name": "python3"
  },
  "language_info": {
   "codemirror_mode": {
    "name": "ipython",
    "version": 3
   },
   "file_extension": ".py",
   "mimetype": "text/x-python",
   "name": "python",
   "nbconvert_exporter": "python",
   "pygments_lexer": "ipython3",
   "version": "3.8.10"
  }
 },
 "nbformat": 4,
 "nbformat_minor": 2
}
